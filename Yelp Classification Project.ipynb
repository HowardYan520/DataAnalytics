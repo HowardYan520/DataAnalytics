{
 "cells": [
  {
   "cell_type": "markdown",
   "metadata": {},
   "source": [
    "# A YELP RATINGS CLASSIFICATION PROJECT"
   ]
  },
  {
   "cell_type": "code",
   "execution_count": 1,
   "metadata": {},
   "outputs": [],
   "source": [
    "import pandas as pd\n",
    "import numpy as np\n",
    "import statsmodels.formula.api as smf\n",
    "import matplotlib.pyplot as plt\n",
    "from sklearn.model_selection import KFold\n",
    "from sklearn.metrics import confusion_matrix"
   ]
  },
  {
   "cell_type": "code",
   "execution_count": 161,
   "metadata": {},
   "outputs": [],
   "source": [
    "yelp_train=pd.read_csv(\"/Users/howardyan/Desktop/Classes Spring 2021/IEOR 142 HW/Assignment_3_export/yelp142_test.csv\")"
   ]
  },
  {
   "cell_type": "code",
   "execution_count": 162,
   "metadata": {},
   "outputs": [],
   "source": [
    "yelp_test=pd.read_csv(\"/Users/howardyan/Desktop/Classes Spring 2021/IEOR 142 HW/Assignment_3_export/yelp142_train.csv\")"
   ]
  },
  {
   "cell_type": "markdown",
   "metadata": {},
   "source": [
    "## I attempt a regression model and analyze its predictive strength (OSR^2)"
   ]
  },
  {
   "cell_type": "markdown",
   "metadata": {},
   "source": [
    "I now build a regression using yelp_train, but with modification to account for missing values"
   ]
  },
  {
   "cell_type": "code",
   "execution_count": 6,
   "metadata": {},
   "outputs": [],
   "source": [
    "reg=smf.ols('stars ~ review_count+C(GoodForKids, Treatment(reference=\"(Missing)\"))+C(Alcohol, Treatment(reference=\"(Missing)\"))+C(BusinessAcceptsCreditCards, Treatment(reference=\"(Missing)\"))+C(WiFi, Treatment(reference=\"(Missing)\"))+C(BikeParking, Treatment(reference=\"(Missing)\"))+C(ByAppointmentOnly, Treatment(reference=\"(Missing)\"))+C(WheelechairAccessible, Treatment(reference=\"(Missing)\"))+C(OutdoorSeating, Treatment(reference=\"(Missing)\"))+C(RestaurantsReservations, Treatment(reference=\"(Missing)\"))+C(DogsAllowed, Treatment(reference=\"(Missing)\"))+C(Caters, Treatment(reference=\"(Missing)\"))',data=yelp_train).fit()"
   ]
  },
  {
   "cell_type": "code",
   "execution_count": 7,
   "metadata": {
    "scrolled": false
   },
   "outputs": [
    {
     "name": "stdout",
     "output_type": "stream",
     "text": [
      "                            OLS Regression Results                            \n",
      "==============================================================================\n",
      "Dep. Variable:                  stars   R-squared:                       0.191\n",
      "Model:                            OLS   Adj. R-squared:                  0.184\n",
      "Method:                 Least Squares   F-statistic:                     25.16\n",
      "Date:                Mon, 15 Mar 2021   Prob (F-statistic):          9.16e-104\n",
      "Time:                        22:37:03   Log-Likelihood:                -3084.3\n",
      "No. Observations:                2688   AIC:                             6221.\n",
      "Df Residuals:                    2662   BIC:                             6374.\n",
      "Df Model:                          25                                         \n",
      "Covariance Type:            nonrobust                                         \n",
      "============================================================================================================================================\n",
      "                                                                               coef    std err          t      P>|t|      [0.025      0.975]\n",
      "--------------------------------------------------------------------------------------------------------------------------------------------\n",
      "Intercept                                                                    3.3665      0.063     53.514      0.000       3.243       3.490\n",
      "C(GoodForKids, Treatment(reference=\"(Missing)\"))[T.FALSE]                    0.0152      0.069      0.221      0.825      -0.120       0.150\n",
      "C(GoodForKids, Treatment(reference=\"(Missing)\"))[T.TRUE]                    -0.0801      0.054     -1.486      0.137      -0.186       0.026\n",
      "C(Alcohol, Treatment(reference=\"(Missing)\"))[T.'beer_and_wine']              0.2224      0.075      2.965      0.003       0.075       0.370\n",
      "C(Alcohol, Treatment(reference=\"(Missing)\"))[T.'full_bar']                   0.1243      0.068      1.841      0.066      -0.008       0.257\n",
      "C(Alcohol, Treatment(reference=\"(Missing)\"))[T.'none']                       0.0527      0.061      0.858      0.391      -0.068       0.173\n",
      "C(BusinessAcceptsCreditCards, Treatment(reference=\"(Missing)\"))[T.FALSE]     0.3976      0.146      2.729      0.006       0.112       0.683\n",
      "C(BusinessAcceptsCreditCards, Treatment(reference=\"(Missing)\"))[T.TRUE]      0.1205      0.073      1.648      0.100      -0.023       0.264\n",
      "C(WiFi, Treatment(reference=\"(Missing)\"))[T.'free']                          0.1091      0.054      2.027      0.043       0.004       0.215\n",
      "C(WiFi, Treatment(reference=\"(Missing)\"))[T.'no']                            0.1206      0.051      2.357      0.018       0.020       0.221\n",
      "C(WiFi, Treatment(reference=\"(Missing)\"))[T.'paid']                         -0.2691      0.154     -1.746      0.081      -0.571       0.033\n",
      "C(BikeParking, Treatment(reference=\"(Missing)\"))[T.FALSE]                   -0.2217      0.049     -4.529      0.000      -0.318      -0.126\n",
      "C(BikeParking, Treatment(reference=\"(Missing)\"))[T.TRUE]                    -0.1453      0.044     -3.332      0.001      -0.231      -0.060\n",
      "C(ByAppointmentOnly, Treatment(reference=\"(Missing)\"))[T.FALSE]              0.1025      0.052      1.973      0.049       0.001       0.204\n",
      "C(ByAppointmentOnly, Treatment(reference=\"(Missing)\"))[T.TRUE]               0.2357      0.160      1.474      0.141      -0.078       0.549\n",
      "C(WheelechairAccessible, Treatment(reference=\"(Missing)\"))[T.FALSE]          0.6634      0.131      5.077      0.000       0.407       0.920\n",
      "C(WheelechairAccessible, Treatment(reference=\"(Missing)\"))[T.TRUE]           0.3889      0.042      9.193      0.000       0.306       0.472\n",
      "C(OutdoorSeating, Treatment(reference=\"(Missing)\"))[T.FALSE]                -0.1880      0.063     -2.976      0.003      -0.312      -0.064\n",
      "C(OutdoorSeating, Treatment(reference=\"(Missing)\"))[T.TRUE]                 -0.1018      0.067     -1.511      0.131      -0.234       0.030\n",
      "C(RestaurantsReservations, Treatment(reference=\"(Missing)\"))[T.FALSE]       -0.2102      0.063     -3.314      0.001      -0.335      -0.086\n",
      "C(RestaurantsReservations, Treatment(reference=\"(Missing)\"))[T.TRUE]         0.0175      0.070      0.252      0.801      -0.119       0.154\n",
      "C(DogsAllowed, Treatment(reference=\"(Missing)\"))[T.FALSE]                    0.2547      0.045      5.657      0.000       0.166       0.343\n",
      "C(DogsAllowed, Treatment(reference=\"(Missing)\"))[T.TRUE]                     0.2512      0.085      2.972      0.003       0.085       0.417\n",
      "C(Caters, Treatment(reference=\"(Missing)\"))[T.FALSE]                        -0.0145      0.046     -0.316      0.752      -0.105       0.076\n",
      "C(Caters, Treatment(reference=\"(Missing)\"))[T.TRUE]                          0.2048      0.050      4.087      0.000       0.107       0.303\n",
      "review_count                                                              9.387e-05   4.52e-05      2.079      0.038    5.33e-06       0.000\n",
      "==============================================================================\n",
      "Omnibus:                       48.304   Durbin-Watson:                   2.063\n",
      "Prob(Omnibus):                  0.000   Jarque-Bera (JB):               50.634\n",
      "Skew:                          -0.336   Prob(JB):                     1.01e-11\n",
      "Kurtosis:                       3.004   Cond. No.                     4.71e+03\n",
      "==============================================================================\n",
      "\n",
      "Notes:\n",
      "[1] Standard Errors assume that the covariance matrix of the errors is correctly specified.\n",
      "[2] The condition number is large, 4.71e+03. This might indicate that there are\n",
      "strong multicollinearity or other numerical problems.\n"
     ]
    }
   ],
   "source": [
    "print(reg.summary())"
   ]
  },
  {
   "cell_type": "markdown",
   "metadata": {},
   "source": [
    "## To select the best ccp_alpha for my decision tree, we employ grid search"
   ]
  },
  {
   "cell_type": "markdown",
   "metadata": {},
   "source": [
    "Our datasets are already split. So we will define x_train and y_train here by subsetting our yelp_train set"
   ]
  },
  {
   "cell_type": "code",
   "execution_count": 110,
   "metadata": {},
   "outputs": [],
   "source": [
    "x_train = pd.get_dummies(yelp_train.drop(['stars'], axis=1))\n",
    "y_train= yelp_train['stars']"
   ]
  },
  {
   "cell_type": "markdown",
   "metadata": {},
   "source": [
    "For the below cell, we find out ccp_alpha score by searching along the interval [0,0.1]. I initially chose [0,0.001] and received an interval limit as the optimal value, so I extended it."
   ]
  },
  {
   "cell_type": "code",
   "execution_count": 111,
   "metadata": {
    "scrolled": true
   },
   "outputs": [
    {
     "data": {
      "text/plain": [
       "GridSearchCV(cv=KFold(n_splits=5, random_state=1, shuffle=True),\n",
       "             estimator=DecisionTreeRegressor(min_samples_leaf=5,\n",
       "                                             min_samples_split=20,\n",
       "                                             random_state=88),\n",
       "             param_grid={'ccp_alpha': array([0.   , 0.002, 0.004, 0.006, 0.008, 0.01 , 0.012, 0.014, 0.016,\n",
       "       0.018, 0.02 , 0.022, 0.024, 0.026, 0.028, 0.03 , 0.032, 0.034,\n",
       "       0.036, 0.038, 0.04 , 0.042, 0.044, 0.046, 0.048, 0.05 , 0.052,\n",
       "       0.054, 0.056, 0.058, 0.06 , 0.062, 0.064, 0.066, 0.068, 0.07 ,\n",
       "       0.072, 0.074, 0.076, 0.078, 0.08 , 0.082, 0.084, 0.086, 0.088,\n",
       "       0.09 , 0.092, 0.094, 0.096, 0.098, 0.1  ])},\n",
       "             scoring='r2')"
      ]
     },
     "execution_count": 111,
     "metadata": {},
     "output_type": "execute_result"
    }
   ],
   "source": [
    "from sklearn.model_selection import GridSearchCV\n",
    "from sklearn.tree import DecisionTreeRegressor\n",
    "from sklearn.model_selection import KFold\n",
    "\n",
    "grid_values = {'ccp_alpha': np.linspace(0, 0.1, 51)}\n",
    "\n",
    "tree = DecisionTreeRegressor(min_samples_leaf=5, min_samples_split=20, random_state=88)\n",
    "cv = KFold(n_splits=5,random_state=1,shuffle=True) \n",
    "tree_cv = GridSearchCV(tree, param_grid=grid_values, scoring='r2', cv=cv, verbose=0)\n",
    "tree_cv.fit(x_train, y_train)"
   ]
  },
  {
   "cell_type": "markdown",
   "metadata": {},
   "source": [
    "I plot the value here in the following graph and observe that the optimal ccp_alpha value is 0.004 given it has the highest CV R^2."
   ]
  },
  {
   "cell_type": "code",
   "execution_count": 112,
   "metadata": {
    "scrolled": true
   },
   "outputs": [
    {
     "data": {
      "image/png": "[encoded data removed]",
      "text/plain": [
       "<Figure size 576x432 with 1 Axes>"
      ]
     },
     "metadata": {
      "needs_background": "light"
     },
     "output_type": "display_data"
    }
   ],
   "source": [
    "ccp_alpha = tree_cv.cv_results_['param_ccp_alpha'].data\n",
    "R2_scores = tree_cv.cv_results_['mean_test_score']\n",
    "\n",
    "plt.figure(figsize=(8, 6))\n",
    "plt.xlabel('ccp_alpha', fontsize=16)\n",
    "plt.ylabel('CV R2', fontsize=16)\n",
    "plt.scatter(ccp_alpha, R2_scores, s=30)\n",
    "plt.plot(ccp_alpha, R2_scores, linewidth=3)\n",
    "plt.grid(True, which='both')\n",
    "plt.show()"
   ]
  },
  {
   "cell_type": "code",
   "execution_count": 113,
   "metadata": {},
   "outputs": [
    {
     "data": {
      "text/plain": [
       "{'ccp_alpha': 0.004}"
      ]
     },
     "execution_count": 113,
     "metadata": {},
     "output_type": "execute_result"
    }
   ],
   "source": [
    "tree_cv.best_params_"
   ]
  },
  {
   "cell_type": "markdown",
   "metadata": {},
   "source": [
    "And now I will build the regression tree using CART. I begin by importing packages."
   ]
  },
  {
   "cell_type": "code",
   "execution_count": 114,
   "metadata": {},
   "outputs": [],
   "source": [
    "from sklearn.tree import DecisionTreeClassifier\n",
    "import matplotlib.pyplot as plt\n",
    "from sklearn.tree import plot_tree"
   ]
  },
  {
   "cell_type": "code",
   "execution_count": 140,
   "metadata": {},
   "outputs": [],
   "source": [
    "tree = DecisionTreeRegressor(min_samples_leaf=5, \n",
    "                              ccp_alpha=0.004,\n",
    "                              random_state = 88)"
   ]
  },
  {
   "cell_type": "code",
   "execution_count": 141,
   "metadata": {},
   "outputs": [],
   "source": [
    "tree = tree.fit(x_train,y_train)"
   ]
  },
  {
   "cell_type": "markdown",
   "metadata": {},
   "source": [
    "Now, I'll print the tree"
   ]
  },
  {
   "cell_type": "code",
   "execution_count": 152,
   "metadata": {
    "scrolled": true
   },
   "outputs": [
    {
     "name": "stdout",
     "output_type": "stream",
     "text": [
      "Node count = 13\n"
     ]
    },
    {
     "data": {
      "image/png": "[encoded data removed]",
      "text/plain": [
       "<Figure size 792x648 with 1 Axes>"
      ]
     },
     "metadata": {
      "needs_background": "light"
     },
     "output_type": "display_data"
    }
   ],
   "source": [
    "print('Node count =', tree.tree_.node_count)\n",
    "plt.figure(figsize=(11,9))\n",
    "plot_tree(tree, \n",
    "  feature_names=x_train.columns, \n",
    "  class_names=['0','1'], \n",
    "  filled=True,\n",
    "  impurity=False,\n",
    "  rounded=True,\n",
    "  fontsize=12) \n",
    "plt.show()\n"
   ]
  },
  {
   "cell_type": "markdown",
   "metadata": {},
   "source": [
    "## And now I'll look at our OSR^2"
   ]
  },
  {
   "cell_type": "markdown",
   "metadata": {},
   "source": [
    "Arrange x_test, y_test, and y_train"
   ]
  },
  {
   "cell_type": "markdown",
   "metadata": {},
   "source": [
    "OSR2 score of the decision tree"
   ]
  },
  {
   "cell_type": "code",
   "execution_count": 153,
   "metadata": {},
   "outputs": [],
   "source": [
    "x_test = pd.get_dummies(yelp_test.drop(['stars'], axis=1))"
   ]
  },
  {
   "cell_type": "code",
   "execution_count": 154,
   "metadata": {},
   "outputs": [],
   "source": [
    "y_test=yelp_test['stars']"
   ]
  },
  {
   "cell_type": "code",
   "execution_count": 155,
   "metadata": {},
   "outputs": [],
   "source": [
    "def OSR2(model, x_test, y_test, y_train):\n",
    "    \n",
    "    y_pred = model.predict(x_test)\n",
    "    SSE = np.sum((y_test - y_pred)**2)\n",
    "    SST = np.sum((y_test - np.mean(y_train))**2)\n",
    "                 \n",
    "    return (1 - SSE/SST)"
   ]
  },
  {
   "cell_type": "code",
   "execution_count": 156,
   "metadata": {
    "scrolled": false
   },
   "outputs": [
    {
     "data": {
      "text/plain": [
       "0.13679718209884095"
      ]
     },
     "execution_count": 156,
     "metadata": {},
     "output_type": "execute_result"
    }
   ],
   "source": [
    "OSR2(tree_cv,x_test,y_test,y_train)"
   ]
  },
  {
   "cell_type": "markdown",
   "metadata": {},
   "source": [
    "OSR2 score of the linear regression model"
   ]
  },
  {
   "cell_type": "code",
   "execution_count": 187,
   "metadata": {},
   "outputs": [],
   "source": [
    "TSS=sum((y_test-np.mean(y_test))**2)"
   ]
  },
  {
   "cell_type": "code",
   "execution_count": 188,
   "metadata": {},
   "outputs": [],
   "source": [
    "RSS=sum((y_test-reg.predict(yelp_test))**2)"
   ]
  },
  {
   "cell_type": "code",
   "execution_count": 194,
   "metadata": {},
   "outputs": [
    {
     "data": {
      "text/plain": [
       "0.14883006943627353"
      ]
     },
     "execution_count": 194,
     "metadata": {},
     "output_type": "execute_result"
    }
   ],
   "source": [
    "1-(RSS/TSS)"
   ]
  },
  {
   "cell_type": "markdown",
   "metadata": {},
   "source": [
    "Calculate MAE of the regression tree model"
   ]
  },
  {
   "cell_type": "code",
   "execution_count": 23,
   "metadata": {},
   "outputs": [],
   "source": [
    "from sklearn.metrics import mean_absolute_error"
   ]
  },
  {
   "cell_type": "code",
   "execution_count": 190,
   "metadata": {},
   "outputs": [
    {
     "data": {
      "text/plain": [
       "0.6211612278598578"
      ]
     },
     "execution_count": 190,
     "metadata": {},
     "output_type": "execute_result"
    }
   ],
   "source": [
    "mean_absolute_error(y_test,tree_cv.predict(x_test))"
   ]
  },
  {
   "cell_type": "markdown",
   "metadata": {},
   "source": [
    "Calculate MAE of the regression statsmodel"
   ]
  },
  {
   "cell_type": "code",
   "execution_count": 191,
   "metadata": {},
   "outputs": [
    {
     "data": {
      "text/plain": [
       "0.6244015758299649"
      ]
     },
     "execution_count": 191,
     "metadata": {},
     "output_type": "execute_result"
    }
   ],
   "source": [
    "mean_absolute_error(yelp_test[['stars']],reg.predict(yelp_test))"
   ]
  },
  {
   "cell_type": "markdown",
   "metadata": {},
   "source": [
    "## It appears a classification model might be a better choice. I'll Explore this now, and begin by creating dummy varibles for my dataset."
   ]
  },
  {
   "cell_type": "markdown",
   "metadata": {},
   "source": [
    "First, perform this on the training set"
   ]
  },
  {
   "cell_type": "code",
   "execution_count": 164,
   "metadata": {},
   "outputs": [
    {
     "data": {
      "text/html": [
       "<div>\n",
       "<style scoped>\n",
       "    .dataframe tbody tr th:only-of-type {\n",
       "        vertical-align: middle;\n",
       "    }\n",
       "\n",
       "    .dataframe tbody tr th {\n",
       "        vertical-align: top;\n",
       "    }\n",
       "\n",
       "    .dataframe thead th {\n",
       "        text-align: right;\n",
       "    }\n",
       "</style>\n",
       "<table border=\"1\" class=\"dataframe\">\n",
       "  <thead>\n",
       "    <tr style=\"text-align: right;\">\n",
       "      <th></th>\n",
       "      <th>stars</th>\n",
       "      <th>review_count</th>\n",
       "      <th>GoodForKids</th>\n",
       "      <th>Alcohol</th>\n",
       "      <th>BusinessAcceptsCreditCards</th>\n",
       "      <th>WiFi</th>\n",
       "      <th>BikeParking</th>\n",
       "      <th>ByAppointmentOnly</th>\n",
       "      <th>WheelechairAccessible</th>\n",
       "      <th>OutdoorSeating</th>\n",
       "      <th>RestaurantsReservations</th>\n",
       "      <th>DogsAllowed</th>\n",
       "      <th>Caters</th>\n",
       "      <th>fourOrabove</th>\n",
       "    </tr>\n",
       "  </thead>\n",
       "  <tbody>\n",
       "    <tr>\n",
       "      <th>0</th>\n",
       "      <td>4.5</td>\n",
       "      <td>11</td>\n",
       "      <td>(Missing)</td>\n",
       "      <td>(Missing)</td>\n",
       "      <td>TRUE</td>\n",
       "      <td>(Missing)</td>\n",
       "      <td>(Missing)</td>\n",
       "      <td>(Missing)</td>\n",
       "      <td>(Missing)</td>\n",
       "      <td>(Missing)</td>\n",
       "      <td>FALSE</td>\n",
       "      <td>(Missing)</td>\n",
       "      <td>(Missing)</td>\n",
       "      <td>1</td>\n",
       "    </tr>\n",
       "    <tr>\n",
       "      <th>1</th>\n",
       "      <td>4.0</td>\n",
       "      <td>82</td>\n",
       "      <td>TRUE</td>\n",
       "      <td>'none'</td>\n",
       "      <td>TRUE</td>\n",
       "      <td>'no'</td>\n",
       "      <td>TRUE</td>\n",
       "      <td>(Missing)</td>\n",
       "      <td>TRUE</td>\n",
       "      <td>FALSE</td>\n",
       "      <td>FALSE</td>\n",
       "      <td>(Missing)</td>\n",
       "      <td>TRUE</td>\n",
       "      <td>1</td>\n",
       "    </tr>\n",
       "    <tr>\n",
       "      <th>2</th>\n",
       "      <td>5.0</td>\n",
       "      <td>3</td>\n",
       "      <td>(Missing)</td>\n",
       "      <td>(Missing)</td>\n",
       "      <td>TRUE</td>\n",
       "      <td>'no'</td>\n",
       "      <td>TRUE</td>\n",
       "      <td>TRUE</td>\n",
       "      <td>TRUE</td>\n",
       "      <td>(Missing)</td>\n",
       "      <td>(Missing)</td>\n",
       "      <td>FALSE</td>\n",
       "      <td>(Missing)</td>\n",
       "      <td>1</td>\n",
       "    </tr>\n",
       "    <tr>\n",
       "      <th>3</th>\n",
       "      <td>4.0</td>\n",
       "      <td>141</td>\n",
       "      <td>TRUE</td>\n",
       "      <td>'none'</td>\n",
       "      <td>TRUE</td>\n",
       "      <td>'no'</td>\n",
       "      <td>FALSE</td>\n",
       "      <td>(Missing)</td>\n",
       "      <td>TRUE</td>\n",
       "      <td>FALSE</td>\n",
       "      <td>FALSE</td>\n",
       "      <td>(Missing)</td>\n",
       "      <td>TRUE</td>\n",
       "      <td>1</td>\n",
       "    </tr>\n",
       "    <tr>\n",
       "      <th>4</th>\n",
       "      <td>5.0</td>\n",
       "      <td>222</td>\n",
       "      <td>TRUE</td>\n",
       "      <td>'none'</td>\n",
       "      <td>TRUE</td>\n",
       "      <td>'free'</td>\n",
       "      <td>TRUE</td>\n",
       "      <td>FALSE</td>\n",
       "      <td>FALSE</td>\n",
       "      <td>FALSE</td>\n",
       "      <td>FALSE</td>\n",
       "      <td>FALSE</td>\n",
       "      <td>TRUE</td>\n",
       "      <td>1</td>\n",
       "    </tr>\n",
       "    <tr>\n",
       "      <th>...</th>\n",
       "      <td>...</td>\n",
       "      <td>...</td>\n",
       "      <td>...</td>\n",
       "      <td>...</td>\n",
       "      <td>...</td>\n",
       "      <td>...</td>\n",
       "      <td>...</td>\n",
       "      <td>...</td>\n",
       "      <td>...</td>\n",
       "      <td>...</td>\n",
       "      <td>...</td>\n",
       "      <td>...</td>\n",
       "      <td>...</td>\n",
       "      <td>...</td>\n",
       "    </tr>\n",
       "    <tr>\n",
       "      <th>2683</th>\n",
       "      <td>2.5</td>\n",
       "      <td>33</td>\n",
       "      <td>TRUE</td>\n",
       "      <td>'none'</td>\n",
       "      <td>TRUE</td>\n",
       "      <td>'no'</td>\n",
       "      <td>TRUE</td>\n",
       "      <td>(Missing)</td>\n",
       "      <td>(Missing)</td>\n",
       "      <td>FALSE</td>\n",
       "      <td>FALSE</td>\n",
       "      <td>(Missing)</td>\n",
       "      <td>TRUE</td>\n",
       "      <td>0</td>\n",
       "    </tr>\n",
       "    <tr>\n",
       "      <th>2684</th>\n",
       "      <td>4.0</td>\n",
       "      <td>19</td>\n",
       "      <td>FALSE</td>\n",
       "      <td>'full_bar'</td>\n",
       "      <td>TRUE</td>\n",
       "      <td>'no'</td>\n",
       "      <td>TRUE</td>\n",
       "      <td>(Missing)</td>\n",
       "      <td>(Missing)</td>\n",
       "      <td>FALSE</td>\n",
       "      <td>FALSE</td>\n",
       "      <td>(Missing)</td>\n",
       "      <td>FALSE</td>\n",
       "      <td>1</td>\n",
       "    </tr>\n",
       "    <tr>\n",
       "      <th>2685</th>\n",
       "      <td>4.5</td>\n",
       "      <td>182</td>\n",
       "      <td>TRUE</td>\n",
       "      <td>'none'</td>\n",
       "      <td>TRUE</td>\n",
       "      <td>'free'</td>\n",
       "      <td>TRUE</td>\n",
       "      <td>(Missing)</td>\n",
       "      <td>TRUE</td>\n",
       "      <td>FALSE</td>\n",
       "      <td>FALSE</td>\n",
       "      <td>FALSE</td>\n",
       "      <td>FALSE</td>\n",
       "      <td>1</td>\n",
       "    </tr>\n",
       "    <tr>\n",
       "      <th>2686</th>\n",
       "      <td>5.0</td>\n",
       "      <td>4</td>\n",
       "      <td>(Missing)</td>\n",
       "      <td>(Missing)</td>\n",
       "      <td>(Missing)</td>\n",
       "      <td>(Missing)</td>\n",
       "      <td>(Missing)</td>\n",
       "      <td>(Missing)</td>\n",
       "      <td>(Missing)</td>\n",
       "      <td>(Missing)</td>\n",
       "      <td>(Missing)</td>\n",
       "      <td>(Missing)</td>\n",
       "      <td>(Missing)</td>\n",
       "      <td>1</td>\n",
       "    </tr>\n",
       "    <tr>\n",
       "      <th>2687</th>\n",
       "      <td>4.0</td>\n",
       "      <td>10</td>\n",
       "      <td>TRUE</td>\n",
       "      <td>'none'</td>\n",
       "      <td>TRUE</td>\n",
       "      <td>'no'</td>\n",
       "      <td>TRUE</td>\n",
       "      <td>(Missing)</td>\n",
       "      <td>(Missing)</td>\n",
       "      <td>FALSE</td>\n",
       "      <td>FALSE</td>\n",
       "      <td>(Missing)</td>\n",
       "      <td>TRUE</td>\n",
       "      <td>1</td>\n",
       "    </tr>\n",
       "  </tbody>\n",
       "</table>\n",
       "<p>2688 rows × 14 columns</p>\n",
       "</div>"
      ],
      "text/plain": [
       "      stars  review_count GoodForKids     Alcohol BusinessAcceptsCreditCards  \\\n",
       "0       4.5            11   (Missing)   (Missing)                       TRUE   \n",
       "1       4.0            82        TRUE      'none'                       TRUE   \n",
       "2       5.0             3   (Missing)   (Missing)                       TRUE   \n",
       "3       4.0           141        TRUE      'none'                       TRUE   \n",
       "4       5.0           222        TRUE      'none'                       TRUE   \n",
       "...     ...           ...         ...         ...                        ...   \n",
       "2683    2.5            33        TRUE      'none'                       TRUE   \n",
       "2684    4.0            19       FALSE  'full_bar'                       TRUE   \n",
       "2685    4.5           182        TRUE      'none'                       TRUE   \n",
       "2686    5.0             4   (Missing)   (Missing)                  (Missing)   \n",
       "2687    4.0            10        TRUE      'none'                       TRUE   \n",
       "\n",
       "           WiFi BikeParking ByAppointmentOnly WheelechairAccessible  \\\n",
       "0     (Missing)   (Missing)         (Missing)             (Missing)   \n",
       "1          'no'        TRUE         (Missing)                  TRUE   \n",
       "2          'no'        TRUE              TRUE                  TRUE   \n",
       "3          'no'       FALSE         (Missing)                  TRUE   \n",
       "4        'free'        TRUE             FALSE                 FALSE   \n",
       "...         ...         ...               ...                   ...   \n",
       "2683       'no'        TRUE         (Missing)             (Missing)   \n",
       "2684       'no'        TRUE         (Missing)             (Missing)   \n",
       "2685     'free'        TRUE         (Missing)                  TRUE   \n",
       "2686  (Missing)   (Missing)         (Missing)             (Missing)   \n",
       "2687       'no'        TRUE         (Missing)             (Missing)   \n",
       "\n",
       "     OutdoorSeating RestaurantsReservations DogsAllowed     Caters  \\\n",
       "0         (Missing)                   FALSE   (Missing)  (Missing)   \n",
       "1             FALSE                   FALSE   (Missing)       TRUE   \n",
       "2         (Missing)               (Missing)       FALSE  (Missing)   \n",
       "3             FALSE                   FALSE   (Missing)       TRUE   \n",
       "4             FALSE                   FALSE       FALSE       TRUE   \n",
       "...             ...                     ...         ...        ...   \n",
       "2683          FALSE                   FALSE   (Missing)       TRUE   \n",
       "2684          FALSE                   FALSE   (Missing)      FALSE   \n",
       "2685          FALSE                   FALSE       FALSE      FALSE   \n",
       "2686      (Missing)               (Missing)   (Missing)  (Missing)   \n",
       "2687          FALSE                   FALSE   (Missing)       TRUE   \n",
       "\n",
       "      fourOrabove  \n",
       "0               1  \n",
       "1               1  \n",
       "2               1  \n",
       "3               1  \n",
       "4               1  \n",
       "...           ...  \n",
       "2683            0  \n",
       "2684            1  \n",
       "2685            1  \n",
       "2686            1  \n",
       "2687            1  \n",
       "\n",
       "[2688 rows x 14 columns]"
      ]
     },
     "execution_count": 164,
     "metadata": {},
     "output_type": "execute_result"
    }
   ],
   "source": [
    "yelp_train['fourOrabove']=pd.Series([1 if x >= 4 else 0 for x in y_train], index=y_train.index)\n",
    "yelp_train"
   ]
  },
  {
   "cell_type": "markdown",
   "metadata": {},
   "source": [
    "And now on the test set"
   ]
  },
  {
   "cell_type": "code",
   "execution_count": 165,
   "metadata": {
    "scrolled": true
   },
   "outputs": [
    {
     "data": {
      "text/html": [
       "<div>\n",
       "<style scoped>\n",
       "    .dataframe tbody tr th:only-of-type {\n",
       "        vertical-align: middle;\n",
       "    }\n",
       "\n",
       "    .dataframe tbody tr th {\n",
       "        vertical-align: top;\n",
       "    }\n",
       "\n",
       "    .dataframe thead th {\n",
       "        text-align: right;\n",
       "    }\n",
       "</style>\n",
       "<table border=\"1\" class=\"dataframe\">\n",
       "  <thead>\n",
       "    <tr style=\"text-align: right;\">\n",
       "      <th></th>\n",
       "      <th>stars</th>\n",
       "      <th>review_count</th>\n",
       "      <th>GoodForKids</th>\n",
       "      <th>Alcohol</th>\n",
       "      <th>BusinessAcceptsCreditCards</th>\n",
       "      <th>WiFi</th>\n",
       "      <th>BikeParking</th>\n",
       "      <th>ByAppointmentOnly</th>\n",
       "      <th>WheelechairAccessible</th>\n",
       "      <th>OutdoorSeating</th>\n",
       "      <th>RestaurantsReservations</th>\n",
       "      <th>DogsAllowed</th>\n",
       "      <th>Caters</th>\n",
       "      <th>fourOrabove</th>\n",
       "    </tr>\n",
       "  </thead>\n",
       "  <tbody>\n",
       "    <tr>\n",
       "      <th>0</th>\n",
       "      <td>3.5</td>\n",
       "      <td>26</td>\n",
       "      <td>(Missing)</td>\n",
       "      <td>(Missing)</td>\n",
       "      <td>TRUE</td>\n",
       "      <td>(Missing)</td>\n",
       "      <td>TRUE</td>\n",
       "      <td>(Missing)</td>\n",
       "      <td>(Missing)</td>\n",
       "      <td>(Missing)</td>\n",
       "      <td>(Missing)</td>\n",
       "      <td>(Missing)</td>\n",
       "      <td>(Missing)</td>\n",
       "      <td>0</td>\n",
       "    </tr>\n",
       "    <tr>\n",
       "      <th>1</th>\n",
       "      <td>3.0</td>\n",
       "      <td>40</td>\n",
       "      <td>TRUE</td>\n",
       "      <td>'full_bar'</td>\n",
       "      <td>TRUE</td>\n",
       "      <td>'free'</td>\n",
       "      <td>FALSE</td>\n",
       "      <td>(Missing)</td>\n",
       "      <td>(Missing)</td>\n",
       "      <td>TRUE</td>\n",
       "      <td>FALSE</td>\n",
       "      <td>(Missing)</td>\n",
       "      <td>(Missing)</td>\n",
       "      <td>0</td>\n",
       "    </tr>\n",
       "    <tr>\n",
       "      <th>2</th>\n",
       "      <td>4.5</td>\n",
       "      <td>45</td>\n",
       "      <td>TRUE</td>\n",
       "      <td>'full_bar'</td>\n",
       "      <td>TRUE</td>\n",
       "      <td>'free'</td>\n",
       "      <td>FALSE</td>\n",
       "      <td>(Missing)</td>\n",
       "      <td>(Missing)</td>\n",
       "      <td>TRUE</td>\n",
       "      <td>FALSE</td>\n",
       "      <td>(Missing)</td>\n",
       "      <td>(Missing)</td>\n",
       "      <td>1</td>\n",
       "    </tr>\n",
       "    <tr>\n",
       "      <th>3</th>\n",
       "      <td>4.5</td>\n",
       "      <td>61</td>\n",
       "      <td>TRUE</td>\n",
       "      <td>(Missing)</td>\n",
       "      <td>TRUE</td>\n",
       "      <td>(Missing)</td>\n",
       "      <td>(Missing)</td>\n",
       "      <td>(Missing)</td>\n",
       "      <td>(Missing)</td>\n",
       "      <td>FALSE</td>\n",
       "      <td>(Missing)</td>\n",
       "      <td>(Missing)</td>\n",
       "      <td>FALSE</td>\n",
       "      <td>1</td>\n",
       "    </tr>\n",
       "    <tr>\n",
       "      <th>4</th>\n",
       "      <td>3.5</td>\n",
       "      <td>5</td>\n",
       "      <td>TRUE</td>\n",
       "      <td>'beer_and_wine'</td>\n",
       "      <td>TRUE</td>\n",
       "      <td>(Missing)</td>\n",
       "      <td>(Missing)</td>\n",
       "      <td>(Missing)</td>\n",
       "      <td>(Missing)</td>\n",
       "      <td>FALSE</td>\n",
       "      <td>FALSE</td>\n",
       "      <td>(Missing)</td>\n",
       "      <td>(Missing)</td>\n",
       "      <td>0</td>\n",
       "    </tr>\n",
       "    <tr>\n",
       "      <th>...</th>\n",
       "      <td>...</td>\n",
       "      <td>...</td>\n",
       "      <td>...</td>\n",
       "      <td>...</td>\n",
       "      <td>...</td>\n",
       "      <td>...</td>\n",
       "      <td>...</td>\n",
       "      <td>...</td>\n",
       "      <td>...</td>\n",
       "      <td>...</td>\n",
       "      <td>...</td>\n",
       "      <td>...</td>\n",
       "      <td>...</td>\n",
       "      <td>...</td>\n",
       "    </tr>\n",
       "    <tr>\n",
       "      <th>6267</th>\n",
       "      <td>4.5</td>\n",
       "      <td>132</td>\n",
       "      <td>TRUE</td>\n",
       "      <td>'beer_and_wine'</td>\n",
       "      <td>TRUE</td>\n",
       "      <td>'no'</td>\n",
       "      <td>TRUE</td>\n",
       "      <td>(Missing)</td>\n",
       "      <td>TRUE</td>\n",
       "      <td>FALSE</td>\n",
       "      <td>FALSE</td>\n",
       "      <td>FALSE</td>\n",
       "      <td>TRUE</td>\n",
       "      <td>1</td>\n",
       "    </tr>\n",
       "    <tr>\n",
       "      <th>6268</th>\n",
       "      <td>5.0</td>\n",
       "      <td>27</td>\n",
       "      <td>(Missing)</td>\n",
       "      <td>'none'</td>\n",
       "      <td>TRUE</td>\n",
       "      <td>'no'</td>\n",
       "      <td>TRUE</td>\n",
       "      <td>(Missing)</td>\n",
       "      <td>TRUE</td>\n",
       "      <td>FALSE</td>\n",
       "      <td>FALSE</td>\n",
       "      <td>FALSE</td>\n",
       "      <td>TRUE</td>\n",
       "      <td>1</td>\n",
       "    </tr>\n",
       "    <tr>\n",
       "      <th>6269</th>\n",
       "      <td>4.5</td>\n",
       "      <td>149</td>\n",
       "      <td>(Missing)</td>\n",
       "      <td>'none'</td>\n",
       "      <td>FALSE</td>\n",
       "      <td>(Missing)</td>\n",
       "      <td>TRUE</td>\n",
       "      <td>FALSE</td>\n",
       "      <td>(Missing)</td>\n",
       "      <td>(Missing)</td>\n",
       "      <td>(Missing)</td>\n",
       "      <td>(Missing)</td>\n",
       "      <td>TRUE</td>\n",
       "      <td>1</td>\n",
       "    </tr>\n",
       "    <tr>\n",
       "      <th>6270</th>\n",
       "      <td>3.0</td>\n",
       "      <td>52</td>\n",
       "      <td>(Missing)</td>\n",
       "      <td>(Missing)</td>\n",
       "      <td>TRUE</td>\n",
       "      <td>(Missing)</td>\n",
       "      <td>TRUE</td>\n",
       "      <td>FALSE</td>\n",
       "      <td>(Missing)</td>\n",
       "      <td>(Missing)</td>\n",
       "      <td>(Missing)</td>\n",
       "      <td>(Missing)</td>\n",
       "      <td>FALSE</td>\n",
       "      <td>0</td>\n",
       "    </tr>\n",
       "    <tr>\n",
       "      <th>6271</th>\n",
       "      <td>3.5</td>\n",
       "      <td>148</td>\n",
       "      <td>TRUE</td>\n",
       "      <td>'beer_and_wine'</td>\n",
       "      <td>TRUE</td>\n",
       "      <td>'free'</td>\n",
       "      <td>TRUE</td>\n",
       "      <td>(Missing)</td>\n",
       "      <td>(Missing)</td>\n",
       "      <td>FALSE</td>\n",
       "      <td>TRUE</td>\n",
       "      <td>(Missing)</td>\n",
       "      <td>FALSE</td>\n",
       "      <td>0</td>\n",
       "    </tr>\n",
       "  </tbody>\n",
       "</table>\n",
       "<p>6272 rows × 14 columns</p>\n",
       "</div>"
      ],
      "text/plain": [
       "      stars  review_count GoodForKids          Alcohol  \\\n",
       "0       3.5            26   (Missing)        (Missing)   \n",
       "1       3.0            40        TRUE       'full_bar'   \n",
       "2       4.5            45        TRUE       'full_bar'   \n",
       "3       4.5            61        TRUE        (Missing)   \n",
       "4       3.5             5        TRUE  'beer_and_wine'   \n",
       "...     ...           ...         ...              ...   \n",
       "6267    4.5           132        TRUE  'beer_and_wine'   \n",
       "6268    5.0            27   (Missing)           'none'   \n",
       "6269    4.5           149   (Missing)           'none'   \n",
       "6270    3.0            52   (Missing)        (Missing)   \n",
       "6271    3.5           148        TRUE  'beer_and_wine'   \n",
       "\n",
       "     BusinessAcceptsCreditCards       WiFi BikeParking ByAppointmentOnly  \\\n",
       "0                          TRUE  (Missing)        TRUE         (Missing)   \n",
       "1                          TRUE     'free'       FALSE         (Missing)   \n",
       "2                          TRUE     'free'       FALSE         (Missing)   \n",
       "3                          TRUE  (Missing)   (Missing)         (Missing)   \n",
       "4                          TRUE  (Missing)   (Missing)         (Missing)   \n",
       "...                         ...        ...         ...               ...   \n",
       "6267                       TRUE       'no'        TRUE         (Missing)   \n",
       "6268                       TRUE       'no'        TRUE         (Missing)   \n",
       "6269                      FALSE  (Missing)        TRUE             FALSE   \n",
       "6270                       TRUE  (Missing)        TRUE             FALSE   \n",
       "6271                       TRUE     'free'        TRUE         (Missing)   \n",
       "\n",
       "     WheelechairAccessible OutdoorSeating RestaurantsReservations DogsAllowed  \\\n",
       "0                (Missing)      (Missing)               (Missing)   (Missing)   \n",
       "1                (Missing)           TRUE                   FALSE   (Missing)   \n",
       "2                (Missing)           TRUE                   FALSE   (Missing)   \n",
       "3                (Missing)          FALSE               (Missing)   (Missing)   \n",
       "4                (Missing)          FALSE                   FALSE   (Missing)   \n",
       "...                    ...            ...                     ...         ...   \n",
       "6267                  TRUE          FALSE                   FALSE       FALSE   \n",
       "6268                  TRUE          FALSE                   FALSE       FALSE   \n",
       "6269             (Missing)      (Missing)               (Missing)   (Missing)   \n",
       "6270             (Missing)      (Missing)               (Missing)   (Missing)   \n",
       "6271             (Missing)          FALSE                    TRUE   (Missing)   \n",
       "\n",
       "         Caters  fourOrabove  \n",
       "0     (Missing)            0  \n",
       "1     (Missing)            0  \n",
       "2     (Missing)            1  \n",
       "3         FALSE            1  \n",
       "4     (Missing)            0  \n",
       "...         ...          ...  \n",
       "6267       TRUE            1  \n",
       "6268       TRUE            1  \n",
       "6269       TRUE            1  \n",
       "6270      FALSE            0  \n",
       "6271      FALSE            0  \n",
       "\n",
       "[6272 rows x 14 columns]"
      ]
     },
     "execution_count": 165,
     "metadata": {},
     "output_type": "execute_result"
    }
   ],
   "source": [
    "yelp_test['fourOrabove']=pd.Series([1 if x >= 4 else 0 for x in y_test], index=y_test.index)\n",
    "yelp_test"
   ]
  },
  {
   "cell_type": "markdown",
   "metadata": {},
   "source": [
    "Here we threshold the prediction for the statsmodel regression at 4"
   ]
  },
  {
   "cell_type": "code",
   "execution_count": 28,
   "metadata": {
    "scrolled": true
   },
   "outputs": [
    {
     "data": {
      "text/plain": [
       "0       0\n",
       "1       0\n",
       "2       0\n",
       "3       0\n",
       "4       0\n",
       "       ..\n",
       "6267    1\n",
       "6268    0\n",
       "6269    0\n",
       "6270    0\n",
       "6271    0\n",
       "Length: 6272, dtype: int64"
      ]
     },
     "execution_count": 28,
     "metadata": {},
     "output_type": "execute_result"
    }
   ],
   "source": [
    "reg_pred=reg.predict(yelp_test)\n",
    "reg_pred=pd.Series([1 if x >= 4 else 0 for x in reg_pred], index=reg_pred.index)\n",
    "reg_pred"
   ]
  },
  {
   "cell_type": "markdown",
   "metadata": {},
   "source": [
    "Here we threshold the prediction for the decision tree at 4"
   ]
  },
  {
   "cell_type": "code",
   "execution_count": 29,
   "metadata": {
    "scrolled": true
   },
   "outputs": [
    {
     "data": {
      "text/plain": [
       "0       0\n",
       "1       0\n",
       "2       0\n",
       "3       0\n",
       "4       0\n",
       "       ..\n",
       "6267    0\n",
       "6268    0\n",
       "6269    0\n",
       "6270    0\n",
       "6271    0\n",
       "Length: 6272, dtype: int64"
      ]
     },
     "execution_count": 29,
     "metadata": {},
     "output_type": "execute_result"
    }
   ],
   "source": [
    "tree_pred=tree_cv.predict(x_test)\n",
    "tree_pred=pd.Series(tree_pred)\n",
    "tree_pred=pd.Series([1 if x >= 4 else 0 for x in tree_pred],index=tree_pred.index)\n",
    "tree_pred"
   ]
  },
  {
   "cell_type": "code",
   "execution_count": 30,
   "metadata": {},
   "outputs": [
    {
     "data": {
      "text/plain": [
       "3.983098591549296"
      ]
     },
     "execution_count": 30,
     "metadata": {},
     "output_type": "execute_result"
    }
   ],
   "source": [
    "max(tree_cv.predict(x_test))"
   ]
  },
  {
   "cell_type": "markdown",
   "metadata": {},
   "source": [
    "## Now, I'll build the logistic model "
   ]
  },
  {
   "cell_type": "code",
   "execution_count": 31,
   "metadata": {},
   "outputs": [],
   "source": [
    "x_test = pd.get_dummies(yelp_test.drop(['fourOrabove','stars'], axis=1))\n",
    "y_test= yelp_test['fourOrabove']"
   ]
  },
  {
   "cell_type": "code",
   "execution_count": 32,
   "metadata": {},
   "outputs": [
    {
     "name": "stdout",
     "output_type": "stream",
     "text": [
      "Optimization terminated successfully.\n",
      "         Current function value: 0.605269\n",
      "         Iterations 6\n"
     ]
    }
   ],
   "source": [
    "logit=smf.logit('fourOrabove~ review_count+C(GoodForKids, Treatment(reference=\"(Missing)\"))+C(Alcohol, Treatment(reference=\"(Missing)\"))+C(BusinessAcceptsCreditCards, Treatment(reference=\"(Missing)\"))+C(WiFi, Treatment(reference=\"(Missing)\"))+C(BikeParking, Treatment(reference=\"(Missing)\"))+C(ByAppointmentOnly, Treatment(reference=\"(Missing)\"))+C(WheelechairAccessible, Treatment(reference=\"(Missing)\"))+C(OutdoorSeating, Treatment(reference=\"(Missing)\"))+C(RestaurantsReservations, Treatment(reference=\"(Missing)\"))+C(DogsAllowed, Treatment(reference=\"(Missing)\"))+C(Caters, Treatment(reference=\"(Missing)\"))',yelp_train).fit()"
   ]
  },
  {
   "cell_type": "code",
   "execution_count": 197,
   "metadata": {},
   "outputs": [
    {
     "name": "stdout",
     "output_type": "stream",
     "text": [
      "                           Logit Regression Results                           \n",
      "==============================================================================\n",
      "Dep. Variable:            fourOrabove   No. Observations:                 2688\n",
      "Model:                          Logit   Df Residuals:                     2662\n",
      "Method:                           MLE   Df Model:                           25\n",
      "Date:                Mon, 15 Mar 2021   Pseudo R-squ.:                  0.1207\n",
      "Time:                        23:08:12   Log-Likelihood:                -1627.0\n",
      "converged:                       True   LL-Null:                       -1850.4\n",
      "Covariance Type:            nonrobust   LLR p-value:                 7.377e-79\n",
      "============================================================================================================================================\n",
      "                                                                               coef    std err          z      P>|z|      [0.025      0.975]\n",
      "--------------------------------------------------------------------------------------------------------------------------------------------\n",
      "Intercept                                                                   -0.4333      0.170     -2.542      0.011      -0.767      -0.099\n",
      "C(GoodForKids, Treatment(reference=\"(Missing)\"))[T.FALSE]                    0.2758      0.197      1.403      0.161      -0.109       0.661\n",
      "C(GoodForKids, Treatment(reference=\"(Missing)\"))[T.TRUE]                    -0.1589      0.155     -1.026      0.305      -0.462       0.145\n",
      "C(Alcohol, Treatment(reference=\"(Missing)\"))[T.'beer_and_wine']              0.3546      0.219      1.623      0.105      -0.074       0.783\n",
      "C(Alcohol, Treatment(reference=\"(Missing)\"))[T.'full_bar']                  -0.0078      0.198     -0.040      0.968      -0.396       0.380\n",
      "C(Alcohol, Treatment(reference=\"(Missing)\"))[T.'none']                       0.3801      0.181      2.104      0.035       0.026       0.734\n",
      "C(BusinessAcceptsCreditCards, Treatment(reference=\"(Missing)\"))[T.FALSE]     0.8370      0.408      2.052      0.040       0.038       1.636\n",
      "C(BusinessAcceptsCreditCards, Treatment(reference=\"(Missing)\"))[T.TRUE]      0.1712      0.200      0.857      0.391      -0.220       0.563\n",
      "C(WiFi, Treatment(reference=\"(Missing)\"))[T.'free']                          0.3196      0.155      2.069      0.039       0.017       0.622\n",
      "C(WiFi, Treatment(reference=\"(Missing)\"))[T.'no']                            0.2986      0.147      2.027      0.043       0.010       0.587\n",
      "C(WiFi, Treatment(reference=\"(Missing)\"))[T.'paid']                         -1.2665      0.556     -2.278      0.023      -2.356      -0.177\n",
      "C(BikeParking, Treatment(reference=\"(Missing)\"))[T.FALSE]                   -0.5648      0.142     -3.973      0.000      -0.844      -0.286\n",
      "C(BikeParking, Treatment(reference=\"(Missing)\"))[T.TRUE]                    -0.3826      0.124     -3.073      0.002      -0.627      -0.139\n",
      "C(ByAppointmentOnly, Treatment(reference=\"(Missing)\"))[T.FALSE]              0.3675      0.152      2.418      0.016       0.070       0.665\n",
      "C(ByAppointmentOnly, Treatment(reference=\"(Missing)\"))[T.TRUE]               0.4679      0.479      0.978      0.328      -0.470       1.406\n",
      "C(WheelechairAccessible, Treatment(reference=\"(Missing)\"))[T.FALSE]          1.7726      0.466      3.800      0.000       0.858       2.687\n",
      "C(WheelechairAccessible, Treatment(reference=\"(Missing)\"))[T.TRUE]           0.8686      0.117      7.400      0.000       0.639       1.099\n",
      "C(OutdoorSeating, Treatment(reference=\"(Missing)\"))[T.FALSE]                -0.5415      0.181     -2.990      0.003      -0.896      -0.187\n",
      "C(OutdoorSeating, Treatment(reference=\"(Missing)\"))[T.TRUE]                 -0.4124      0.192     -2.147      0.032      -0.789      -0.036\n",
      "C(RestaurantsReservations, Treatment(reference=\"(Missing)\"))[T.FALSE]       -0.5082      0.181     -2.812      0.005      -0.862      -0.154\n",
      "C(RestaurantsReservations, Treatment(reference=\"(Missing)\"))[T.TRUE]         0.0991      0.198      0.501      0.616      -0.289       0.487\n",
      "C(DogsAllowed, Treatment(reference=\"(Missing)\"))[T.FALSE]                    0.7649      0.127      6.022      0.000       0.516       1.014\n",
      "C(DogsAllowed, Treatment(reference=\"(Missing)\"))[T.TRUE]                     0.5797      0.247      2.346      0.019       0.095       1.064\n",
      "C(Caters, Treatment(reference=\"(Missing)\"))[T.FALSE]                        -0.0895      0.132     -0.678      0.498      -0.348       0.169\n",
      "C(Caters, Treatment(reference=\"(Missing)\"))[T.TRUE]                          0.3578      0.143      2.508      0.012       0.078       0.637\n",
      "review_count                                                                 0.0004      0.000      2.753      0.006       0.000       0.001\n",
      "============================================================================================================================================\n"
     ]
    }
   ],
   "source": [
    "print(logit.summary())"
   ]
  },
  {
   "cell_type": "code",
   "execution_count": 33,
   "metadata": {
    "scrolled": true
   },
   "outputs": [],
   "source": [
    "log_results=logit.predict(yelp_test)"
   ]
  },
  {
   "cell_type": "markdown",
   "metadata": {},
   "source": [
    "## I set the threshold at 0.5 (this is the optimal level from Naive Baye's Classifier)"
   ]
  },
  {
   "cell_type": "code",
   "execution_count": 34,
   "metadata": {},
   "outputs": [],
   "source": [
    "log_results\n",
    "log_results=pd.Series([1 if x >= 0.5 else 0 for x in log_results], index=log_results.index)"
   ]
  },
  {
   "cell_type": "code",
   "execution_count": 35,
   "metadata": {
    "scrolled": true
   },
   "outputs": [
    {
     "data": {
      "text/plain": [
       "array([[2787,  744],\n",
       "       [1335, 1406]])"
      ]
     },
     "execution_count": 35,
     "metadata": {},
     "output_type": "execute_result"
    }
   ],
   "source": [
    "confusion_matrix(y_test,log_results)"
   ]
  },
  {
   "cell_type": "code",
   "execution_count": 36,
   "metadata": {},
   "outputs": [],
   "source": [
    "logit_Acc=(2787+1406)/(2787+744+1335+1406)"
   ]
  },
  {
   "cell_type": "code",
   "execution_count": 37,
   "metadata": {},
   "outputs": [],
   "source": [
    "logit_TPR=1406/(1406+1335)"
   ]
  },
  {
   "cell_type": "code",
   "execution_count": 38,
   "metadata": {},
   "outputs": [],
   "source": [
    "logit_FPR=744/(744+2787)"
   ]
  },
  {
   "cell_type": "markdown",
   "metadata": {},
   "source": [
    "## Now I'll see if I can do better and build a decision tree classifier"
   ]
  },
  {
   "cell_type": "code",
   "execution_count": 159,
   "metadata": {},
   "outputs": [],
   "source": [
    "from sklearn.tree import DecisionTreeClassifier\n",
    "import matplotlib.pyplot as plt\n",
    "from sklearn.tree import plot_tree\n",
    "from sklearn.metrics import confusion_matrix\n",
    "from sklearn.metrics import precision_score\n",
    "from sklearn.metrics import recall_score "
   ]
  },
  {
   "cell_type": "code",
   "execution_count": 166,
   "metadata": {},
   "outputs": [],
   "source": [
    "x_train = pd.get_dummies(yelp_train.drop(['stars','fourOrabove'], axis=1))\n",
    "y_train = yelp_train[['fourOrabove']]"
   ]
  },
  {
   "cell_type": "markdown",
   "metadata": {},
   "source": [
    "First we will use cross validation to identify the ccp alpha, but note that we're using a decision tree classifier rather than regressor"
   ]
  },
  {
   "cell_type": "code",
   "execution_count": 170,
   "metadata": {},
   "outputs": [
    {
     "name": "stdout",
     "output_type": "stream",
     "text": [
      "Fitting 10 folds for each of 201 candidates, totalling 2010 fits\n"
     ]
    },
    {
     "name": "stderr",
     "output_type": "stream",
     "text": [
      "[Parallel(n_jobs=1)]: Using backend SequentialBackend with 1 concurrent workers.\n",
      "[Parallel(n_jobs=1)]: Done 2010 out of 2010 | elapsed:   23.2s finished\n"
     ]
    },
    {
     "data": {
      "text/plain": [
       "GridSearchCV(cv=10, estimator=DecisionTreeClassifier(),\n",
       "             param_grid={'ccp_alpha': array([0.    , 0.0005, 0.001 , 0.0015, 0.002 , 0.0025, 0.003 , 0.0035,\n",
       "       0.004 , 0.0045, 0.005 , 0.0055, 0.006 , 0.0065, 0.007 , 0.0075,\n",
       "       0.008 , 0.0085, 0.009 , 0.0095, 0.01  , 0.0105, 0.011 , 0.0115,\n",
       "       0.012 , 0.0125, 0.013 , 0.0135, 0.014 , 0.0145, 0.015 , 0.0155,\n",
       "       0.016 , 0.0165, 0.017 , 0.0175, 0.018 , 0.0185, 0.019 , 0.0195,\n",
       "       0.02  , 0.02...\n",
       "       0.084 , 0.0845, 0.085 , 0.0855, 0.086 , 0.0865, 0.087 , 0.0875,\n",
       "       0.088 , 0.0885, 0.089 , 0.0895, 0.09  , 0.0905, 0.091 , 0.0915,\n",
       "       0.092 , 0.0925, 0.093 , 0.0935, 0.094 , 0.0945, 0.095 , 0.0955,\n",
       "       0.096 , 0.0965, 0.097 , 0.0975, 0.098 , 0.0985, 0.099 , 0.0995,\n",
       "       0.1   ]),\n",
       "                         'class_weight': [{0: 1, 1: 20}], 'max_depth': [30],\n",
       "                         'min_samples_leaf': [5], 'min_samples_split': [20],\n",
       "                         'random_state': [88]},\n",
       "             scoring='accuracy', verbose=1)"
      ]
     },
     "execution_count": 170,
     "metadata": {},
     "output_type": "execute_result"
    }
   ],
   "source": [
    "from sklearn.model_selection import GridSearchCV\n",
    "\n",
    "grid_values = {'ccp_alpha': np.linspace(0, 0.10, 201),\n",
    "               'min_samples_leaf': [5],\n",
    "               'min_samples_split': [20],\n",
    "               'max_depth': [30],\n",
    "               'class_weight' : [{0: 1, 1: 20}],\n",
    "               'random_state': [88]} \n",
    "            \n",
    "dtc = DecisionTreeClassifier()\n",
    "dtc_cv_acc = GridSearchCV(dtc, param_grid = grid_values, scoring = 'accuracy', cv=10, verbose=1) \n",
    "dtc_cv_acc.fit(x_train, y_train)"
   ]
  },
  {
   "cell_type": "code",
   "execution_count": 171,
   "metadata": {},
   "outputs": [
    {
     "data": {
      "text/html": [
       "<div>\n",
       "<style scoped>\n",
       "    .dataframe tbody tr th:only-of-type {\n",
       "        vertical-align: middle;\n",
       "    }\n",
       "\n",
       "    .dataframe tbody tr th {\n",
       "        vertical-align: top;\n",
       "    }\n",
       "\n",
       "    .dataframe thead th {\n",
       "        text-align: right;\n",
       "    }\n",
       "</style>\n",
       "<table border=\"1\" class=\"dataframe\">\n",
       "  <thead>\n",
       "    <tr style=\"text-align: right;\">\n",
       "      <th></th>\n",
       "      <th>ccp alpha</th>\n",
       "      <th>Validation Accuracy</th>\n",
       "    </tr>\n",
       "  </thead>\n",
       "  <tbody>\n",
       "    <tr>\n",
       "      <th>0</th>\n",
       "      <td>0</td>\n",
       "      <td>0.513756</td>\n",
       "    </tr>\n",
       "    <tr>\n",
       "      <th>1</th>\n",
       "      <td>0.0005</td>\n",
       "      <td>0.490699</td>\n",
       "    </tr>\n",
       "    <tr>\n",
       "      <th>2</th>\n",
       "      <td>0.001</td>\n",
       "      <td>0.451265</td>\n",
       "    </tr>\n",
       "    <tr>\n",
       "      <th>3</th>\n",
       "      <td>0.0015</td>\n",
       "      <td>0.451265</td>\n",
       "    </tr>\n",
       "    <tr>\n",
       "      <th>4</th>\n",
       "      <td>0.002</td>\n",
       "      <td>0.451265</td>\n",
       "    </tr>\n",
       "    <tr>\n",
       "      <th>5</th>\n",
       "      <td>0.0025</td>\n",
       "      <td>0.451265</td>\n",
       "    </tr>\n",
       "    <tr>\n",
       "      <th>6</th>\n",
       "      <td>0.003</td>\n",
       "      <td>0.451265</td>\n",
       "    </tr>\n",
       "    <tr>\n",
       "      <th>7</th>\n",
       "      <td>0.0035</td>\n",
       "      <td>0.451265</td>\n",
       "    </tr>\n",
       "    <tr>\n",
       "      <th>8</th>\n",
       "      <td>0.004</td>\n",
       "      <td>0.451265</td>\n",
       "    </tr>\n",
       "    <tr>\n",
       "      <th>9</th>\n",
       "      <td>0.0045</td>\n",
       "      <td>0.451265</td>\n",
       "    </tr>\n",
       "    <tr>\n",
       "      <th>10</th>\n",
       "      <td>0.005</td>\n",
       "      <td>0.451265</td>\n",
       "    </tr>\n",
       "    <tr>\n",
       "      <th>11</th>\n",
       "      <td>0.0055</td>\n",
       "      <td>0.451265</td>\n",
       "    </tr>\n",
       "    <tr>\n",
       "      <th>12</th>\n",
       "      <td>0.006</td>\n",
       "      <td>0.451265</td>\n",
       "    </tr>\n",
       "    <tr>\n",
       "      <th>13</th>\n",
       "      <td>0.0065</td>\n",
       "      <td>0.451265</td>\n",
       "    </tr>\n",
       "    <tr>\n",
       "      <th>14</th>\n",
       "      <td>0.007</td>\n",
       "      <td>0.451265</td>\n",
       "    </tr>\n",
       "    <tr>\n",
       "      <th>15</th>\n",
       "      <td>0.0075</td>\n",
       "      <td>0.451265</td>\n",
       "    </tr>\n",
       "    <tr>\n",
       "      <th>16</th>\n",
       "      <td>0.008</td>\n",
       "      <td>0.451265</td>\n",
       "    </tr>\n",
       "    <tr>\n",
       "      <th>17</th>\n",
       "      <td>0.0085</td>\n",
       "      <td>0.451265</td>\n",
       "    </tr>\n",
       "    <tr>\n",
       "      <th>18</th>\n",
       "      <td>0.009</td>\n",
       "      <td>0.451265</td>\n",
       "    </tr>\n",
       "    <tr>\n",
       "      <th>19</th>\n",
       "      <td>0.0095</td>\n",
       "      <td>0.451265</td>\n",
       "    </tr>\n",
       "  </tbody>\n",
       "</table>\n",
       "</div>"
      ],
      "text/plain": [
       "   ccp alpha  Validation Accuracy\n",
       "0          0             0.513756\n",
       "1     0.0005             0.490699\n",
       "2      0.001             0.451265\n",
       "3     0.0015             0.451265\n",
       "4      0.002             0.451265\n",
       "5     0.0025             0.451265\n",
       "6      0.003             0.451265\n",
       "7     0.0035             0.451265\n",
       "8      0.004             0.451265\n",
       "9     0.0045             0.451265\n",
       "10     0.005             0.451265\n",
       "11    0.0055             0.451265\n",
       "12     0.006             0.451265\n",
       "13    0.0065             0.451265\n",
       "14     0.007             0.451265\n",
       "15    0.0075             0.451265\n",
       "16     0.008             0.451265\n",
       "17    0.0085             0.451265\n",
       "18     0.009             0.451265\n",
       "19    0.0095             0.451265"
      ]
     },
     "execution_count": 171,
     "metadata": {},
     "output_type": "execute_result"
    }
   ],
   "source": [
    "acc = dtc_cv_acc.cv_results_['mean_test_score'] \n",
    "ccp = dtc_cv_acc.cv_results_['param_ccp_alpha'].data\n",
    "\n",
    "pd.DataFrame({'ccp alpha' : ccp, 'Validation Accuracy': acc}).head(20)"
   ]
  },
  {
   "cell_type": "code",
   "execution_count": 172,
   "metadata": {
    "scrolled": true
   },
   "outputs": [
    {
     "data": {
      "image/png": "[encoded data removed]",
      "text/plain": [
       "<Figure size 576x432 with 1 Axes>"
      ]
     },
     "metadata": {
      "needs_background": "light"
     },
     "output_type": "display_data"
    }
   ],
   "source": [
    "plt.figure(figsize=(8, 6))\n",
    "plt.xlabel('ccp alpha', fontsize=16)\n",
    "plt.ylabel('mean validation accuracy', fontsize=16)\n",
    "plt.scatter(ccp, acc, s=2)\n",
    "plt.plot(ccp, acc, linewidth=3)\n",
    "plt.grid(True, which='both')\n",
    "plt.show()"
   ]
  },
  {
   "cell_type": "code",
   "execution_count": 173,
   "metadata": {},
   "outputs": [
    {
     "name": "stdout",
     "output_type": "stream",
     "text": [
      "Grid best parameter ccp_alpha (max. accuracy):  0.0\n",
      "Grid best score (accuracy):  0.513756033956611\n"
     ]
    }
   ],
   "source": [
    "print('Grid best parameter ccp_alpha (max. accuracy): ', dtc_cv_acc.best_params_['ccp_alpha'])\n",
    "print('Grid best score (accuracy): ', dtc_cv_acc.best_score_)"
   ]
  },
  {
   "cell_type": "code",
   "execution_count": 174,
   "metadata": {
    "scrolled": true
   },
   "outputs": [
    {
     "name": "stdout",
     "output_type": "stream",
     "text": [
      "Node count = 461\n"
     ]
    },
    {
     "data": {
      "image/png": "[encoded data removed]",
      "text/plain": [
       "<Figure size 1440x720 with 1 Axes>"
      ]
     },
     "metadata": {
      "needs_background": "light"
     },
     "output_type": "display_data"
    }
   ],
   "source": [
    "print('Node count =', dtc_cv_acc.best_estimator_.tree_.node_count)\n",
    "\n",
    "plt.figure(figsize=(20,10))\n",
    "plot_tree(dtc_cv_acc.best_estimator_, \n",
    "          feature_names=x_train.columns, \n",
    "          class_names=['0','1'],\n",
    "          filled=True,\n",
    "          impurity=False,\n",
    "          rounded=True,\n",
    "          fontsize=12,\n",
    "          max_depth=3)\n",
    "plt.show()\n"
   ]
  },
  {
   "cell_type": "code",
   "execution_count": 46,
   "metadata": {},
   "outputs": [],
   "source": [
    "class_tree = DecisionTreeClassifier(min_samples_leaf=5, \n",
    "                              ccp_alpha=0,\n",
    "                              random_state = 88)"
   ]
  },
  {
   "cell_type": "code",
   "execution_count": 47,
   "metadata": {},
   "outputs": [],
   "source": [
    "class_tree=class_tree.fit(x_train,y_train)"
   ]
  },
  {
   "cell_type": "code",
   "execution_count": 48,
   "metadata": {},
   "outputs": [
    {
     "data": {
      "text/plain": [
       "array([[2528, 1003],\n",
       "       [1306, 1435]])"
      ]
     },
     "execution_count": 48,
     "metadata": {},
     "output_type": "execute_result"
    }
   ],
   "source": [
    "confusion_matrix(y_test,class_tree.predict(x_test))"
   ]
  },
  {
   "cell_type": "code",
   "execution_count": 49,
   "metadata": {},
   "outputs": [
    {
     "data": {
      "text/plain": [
       "6272"
      ]
     },
     "execution_count": 49,
     "metadata": {},
     "output_type": "execute_result"
    }
   ],
   "source": [
    "sum(sum(confusion_matrix(y_test,class_tree.predict(x_test))))"
   ]
  },
  {
   "cell_type": "code",
   "execution_count": 50,
   "metadata": {},
   "outputs": [
    {
     "data": {
      "text/plain": [
       "0.6318558673469388"
      ]
     },
     "execution_count": 50,
     "metadata": {},
     "output_type": "execute_result"
    }
   ],
   "source": [
    "class_tree_acc=(2528+1435)/sum(sum(confusion_matrix(y_test,class_tree.predict(x_test))))\n",
    "class_tree_acc"
   ]
  },
  {
   "cell_type": "code",
   "execution_count": 51,
   "metadata": {},
   "outputs": [],
   "source": [
    "class_tree_TPR=1435/(1435+1306)"
   ]
  },
  {
   "cell_type": "code",
   "execution_count": 52,
   "metadata": {},
   "outputs": [],
   "source": [
    "class_tree_FPR=1003/(1003+2528)"
   ]
  },
  {
   "cell_type": "markdown",
   "metadata": {},
   "source": [
    "## I'll Try Bagging (Bootstrapping) Too!"
   ]
  },
  {
   "cell_type": "code",
   "execution_count": 53,
   "metadata": {
    "scrolled": true
   },
   "outputs": [
    {
     "data": {
      "text/html": [
       "<div>\n",
       "<style scoped>\n",
       "    .dataframe tbody tr th:only-of-type {\n",
       "        vertical-align: middle;\n",
       "    }\n",
       "\n",
       "    .dataframe tbody tr th {\n",
       "        vertical-align: top;\n",
       "    }\n",
       "\n",
       "    .dataframe thead th {\n",
       "        text-align: right;\n",
       "    }\n",
       "</style>\n",
       "<table border=\"1\" class=\"dataframe\">\n",
       "  <thead>\n",
       "    <tr style=\"text-align: right;\">\n",
       "      <th></th>\n",
       "      <th>stars</th>\n",
       "      <th>GoodForKids_(Missing)</th>\n",
       "      <th>GoodForKids_FALSE</th>\n",
       "      <th>GoodForKids_TRUE</th>\n",
       "      <th>Alcohol_'beer_and_wine'</th>\n",
       "      <th>Alcohol_'full_bar'</th>\n",
       "      <th>Alcohol_'none'</th>\n",
       "      <th>Alcohol_(Missing)</th>\n",
       "      <th>BusinessAcceptsCreditCards_(Missing)</th>\n",
       "      <th>BusinessAcceptsCreditCards_FALSE</th>\n",
       "      <th>...</th>\n",
       "      <th>OutdoorSeating_TRUE</th>\n",
       "      <th>RestaurantsReservations_(Missing)</th>\n",
       "      <th>RestaurantsReservations_FALSE</th>\n",
       "      <th>RestaurantsReservations_TRUE</th>\n",
       "      <th>DogsAllowed_(Missing)</th>\n",
       "      <th>DogsAllowed_FALSE</th>\n",
       "      <th>DogsAllowed_TRUE</th>\n",
       "      <th>Caters_(Missing)</th>\n",
       "      <th>Caters_FALSE</th>\n",
       "      <th>Caters_TRUE</th>\n",
       "    </tr>\n",
       "  </thead>\n",
       "  <tbody>\n",
       "    <tr>\n",
       "      <th>0</th>\n",
       "      <td>4.5</td>\n",
       "      <td>1</td>\n",
       "      <td>0</td>\n",
       "      <td>0</td>\n",
       "      <td>0</td>\n",
       "      <td>0</td>\n",
       "      <td>0</td>\n",
       "      <td>1</td>\n",
       "      <td>0</td>\n",
       "      <td>0</td>\n",
       "      <td>...</td>\n",
       "      <td>0</td>\n",
       "      <td>0</td>\n",
       "      <td>1</td>\n",
       "      <td>0</td>\n",
       "      <td>1</td>\n",
       "      <td>0</td>\n",
       "      <td>0</td>\n",
       "      <td>1</td>\n",
       "      <td>0</td>\n",
       "      <td>0</td>\n",
       "    </tr>\n",
       "    <tr>\n",
       "      <th>1</th>\n",
       "      <td>4.0</td>\n",
       "      <td>0</td>\n",
       "      <td>0</td>\n",
       "      <td>1</td>\n",
       "      <td>0</td>\n",
       "      <td>0</td>\n",
       "      <td>1</td>\n",
       "      <td>0</td>\n",
       "      <td>0</td>\n",
       "      <td>0</td>\n",
       "      <td>...</td>\n",
       "      <td>0</td>\n",
       "      <td>0</td>\n",
       "      <td>1</td>\n",
       "      <td>0</td>\n",
       "      <td>1</td>\n",
       "      <td>0</td>\n",
       "      <td>0</td>\n",
       "      <td>0</td>\n",
       "      <td>0</td>\n",
       "      <td>1</td>\n",
       "    </tr>\n",
       "    <tr>\n",
       "      <th>2</th>\n",
       "      <td>5.0</td>\n",
       "      <td>1</td>\n",
       "      <td>0</td>\n",
       "      <td>0</td>\n",
       "      <td>0</td>\n",
       "      <td>0</td>\n",
       "      <td>0</td>\n",
       "      <td>1</td>\n",
       "      <td>0</td>\n",
       "      <td>0</td>\n",
       "      <td>...</td>\n",
       "      <td>0</td>\n",
       "      <td>1</td>\n",
       "      <td>0</td>\n",
       "      <td>0</td>\n",
       "      <td>0</td>\n",
       "      <td>1</td>\n",
       "      <td>0</td>\n",
       "      <td>1</td>\n",
       "      <td>0</td>\n",
       "      <td>0</td>\n",
       "    </tr>\n",
       "    <tr>\n",
       "      <th>3</th>\n",
       "      <td>4.0</td>\n",
       "      <td>0</td>\n",
       "      <td>0</td>\n",
       "      <td>1</td>\n",
       "      <td>0</td>\n",
       "      <td>0</td>\n",
       "      <td>1</td>\n",
       "      <td>0</td>\n",
       "      <td>0</td>\n",
       "      <td>0</td>\n",
       "      <td>...</td>\n",
       "      <td>0</td>\n",
       "      <td>0</td>\n",
       "      <td>1</td>\n",
       "      <td>0</td>\n",
       "      <td>1</td>\n",
       "      <td>0</td>\n",
       "      <td>0</td>\n",
       "      <td>0</td>\n",
       "      <td>0</td>\n",
       "      <td>1</td>\n",
       "    </tr>\n",
       "    <tr>\n",
       "      <th>4</th>\n",
       "      <td>5.0</td>\n",
       "      <td>0</td>\n",
       "      <td>0</td>\n",
       "      <td>1</td>\n",
       "      <td>0</td>\n",
       "      <td>0</td>\n",
       "      <td>1</td>\n",
       "      <td>0</td>\n",
       "      <td>0</td>\n",
       "      <td>0</td>\n",
       "      <td>...</td>\n",
       "      <td>0</td>\n",
       "      <td>0</td>\n",
       "      <td>1</td>\n",
       "      <td>0</td>\n",
       "      <td>0</td>\n",
       "      <td>1</td>\n",
       "      <td>0</td>\n",
       "      <td>0</td>\n",
       "      <td>0</td>\n",
       "      <td>1</td>\n",
       "    </tr>\n",
       "    <tr>\n",
       "      <th>...</th>\n",
       "      <td>...</td>\n",
       "      <td>...</td>\n",
       "      <td>...</td>\n",
       "      <td>...</td>\n",
       "      <td>...</td>\n",
       "      <td>...</td>\n",
       "      <td>...</td>\n",
       "      <td>...</td>\n",
       "      <td>...</td>\n",
       "      <td>...</td>\n",
       "      <td>...</td>\n",
       "      <td>...</td>\n",
       "      <td>...</td>\n",
       "      <td>...</td>\n",
       "      <td>...</td>\n",
       "      <td>...</td>\n",
       "      <td>...</td>\n",
       "      <td>...</td>\n",
       "      <td>...</td>\n",
       "      <td>...</td>\n",
       "      <td>...</td>\n",
       "    </tr>\n",
       "    <tr>\n",
       "      <th>2683</th>\n",
       "      <td>2.5</td>\n",
       "      <td>0</td>\n",
       "      <td>0</td>\n",
       "      <td>1</td>\n",
       "      <td>0</td>\n",
       "      <td>0</td>\n",
       "      <td>1</td>\n",
       "      <td>0</td>\n",
       "      <td>0</td>\n",
       "      <td>0</td>\n",
       "      <td>...</td>\n",
       "      <td>0</td>\n",
       "      <td>0</td>\n",
       "      <td>1</td>\n",
       "      <td>0</td>\n",
       "      <td>1</td>\n",
       "      <td>0</td>\n",
       "      <td>0</td>\n",
       "      <td>0</td>\n",
       "      <td>0</td>\n",
       "      <td>1</td>\n",
       "    </tr>\n",
       "    <tr>\n",
       "      <th>2684</th>\n",
       "      <td>4.0</td>\n",
       "      <td>0</td>\n",
       "      <td>1</td>\n",
       "      <td>0</td>\n",
       "      <td>0</td>\n",
       "      <td>1</td>\n",
       "      <td>0</td>\n",
       "      <td>0</td>\n",
       "      <td>0</td>\n",
       "      <td>0</td>\n",
       "      <td>...</td>\n",
       "      <td>0</td>\n",
       "      <td>0</td>\n",
       "      <td>1</td>\n",
       "      <td>0</td>\n",
       "      <td>1</td>\n",
       "      <td>0</td>\n",
       "      <td>0</td>\n",
       "      <td>0</td>\n",
       "      <td>1</td>\n",
       "      <td>0</td>\n",
       "    </tr>\n",
       "    <tr>\n",
       "      <th>2685</th>\n",
       "      <td>4.5</td>\n",
       "      <td>0</td>\n",
       "      <td>0</td>\n",
       "      <td>1</td>\n",
       "      <td>0</td>\n",
       "      <td>0</td>\n",
       "      <td>1</td>\n",
       "      <td>0</td>\n",
       "      <td>0</td>\n",
       "      <td>0</td>\n",
       "      <td>...</td>\n",
       "      <td>0</td>\n",
       "      <td>0</td>\n",
       "      <td>1</td>\n",
       "      <td>0</td>\n",
       "      <td>0</td>\n",
       "      <td>1</td>\n",
       "      <td>0</td>\n",
       "      <td>0</td>\n",
       "      <td>1</td>\n",
       "      <td>0</td>\n",
       "    </tr>\n",
       "    <tr>\n",
       "      <th>2686</th>\n",
       "      <td>5.0</td>\n",
       "      <td>1</td>\n",
       "      <td>0</td>\n",
       "      <td>0</td>\n",
       "      <td>0</td>\n",
       "      <td>0</td>\n",
       "      <td>0</td>\n",
       "      <td>1</td>\n",
       "      <td>1</td>\n",
       "      <td>0</td>\n",
       "      <td>...</td>\n",
       "      <td>0</td>\n",
       "      <td>1</td>\n",
       "      <td>0</td>\n",
       "      <td>0</td>\n",
       "      <td>1</td>\n",
       "      <td>0</td>\n",
       "      <td>0</td>\n",
       "      <td>1</td>\n",
       "      <td>0</td>\n",
       "      <td>0</td>\n",
       "    </tr>\n",
       "    <tr>\n",
       "      <th>2687</th>\n",
       "      <td>4.0</td>\n",
       "      <td>0</td>\n",
       "      <td>0</td>\n",
       "      <td>1</td>\n",
       "      <td>0</td>\n",
       "      <td>0</td>\n",
       "      <td>1</td>\n",
       "      <td>0</td>\n",
       "      <td>0</td>\n",
       "      <td>0</td>\n",
       "      <td>...</td>\n",
       "      <td>0</td>\n",
       "      <td>0</td>\n",
       "      <td>1</td>\n",
       "      <td>0</td>\n",
       "      <td>1</td>\n",
       "      <td>0</td>\n",
       "      <td>0</td>\n",
       "      <td>0</td>\n",
       "      <td>0</td>\n",
       "      <td>1</td>\n",
       "    </tr>\n",
       "  </tbody>\n",
       "</table>\n",
       "<p>2688 rows × 36 columns</p>\n",
       "</div>"
      ],
      "text/plain": [
       "      stars  GoodForKids_(Missing)  GoodForKids_FALSE  GoodForKids_TRUE  \\\n",
       "0       4.5                      1                  0                 0   \n",
       "1       4.0                      0                  0                 1   \n",
       "2       5.0                      1                  0                 0   \n",
       "3       4.0                      0                  0                 1   \n",
       "4       5.0                      0                  0                 1   \n",
       "...     ...                    ...                ...               ...   \n",
       "2683    2.5                      0                  0                 1   \n",
       "2684    4.0                      0                  1                 0   \n",
       "2685    4.5                      0                  0                 1   \n",
       "2686    5.0                      1                  0                 0   \n",
       "2687    4.0                      0                  0                 1   \n",
       "\n",
       "      Alcohol_'beer_and_wine'  Alcohol_'full_bar'  Alcohol_'none'  \\\n",
       "0                           0                   0               0   \n",
       "1                           0                   0               1   \n",
       "2                           0                   0               0   \n",
       "3                           0                   0               1   \n",
       "4                           0                   0               1   \n",
       "...                       ...                 ...             ...   \n",
       "2683                        0                   0               1   \n",
       "2684                        0                   1               0   \n",
       "2685                        0                   0               1   \n",
       "2686                        0                   0               0   \n",
       "2687                        0                   0               1   \n",
       "\n",
       "      Alcohol_(Missing)  BusinessAcceptsCreditCards_(Missing)  \\\n",
       "0                     1                                     0   \n",
       "1                     0                                     0   \n",
       "2                     1                                     0   \n",
       "3                     0                                     0   \n",
       "4                     0                                     0   \n",
       "...                 ...                                   ...   \n",
       "2683                  0                                     0   \n",
       "2684                  0                                     0   \n",
       "2685                  0                                     0   \n",
       "2686                  1                                     1   \n",
       "2687                  0                                     0   \n",
       "\n",
       "      BusinessAcceptsCreditCards_FALSE  ...  OutdoorSeating_TRUE  \\\n",
       "0                                    0  ...                    0   \n",
       "1                                    0  ...                    0   \n",
       "2                                    0  ...                    0   \n",
       "3                                    0  ...                    0   \n",
       "4                                    0  ...                    0   \n",
       "...                                ...  ...                  ...   \n",
       "2683                                 0  ...                    0   \n",
       "2684                                 0  ...                    0   \n",
       "2685                                 0  ...                    0   \n",
       "2686                                 0  ...                    0   \n",
       "2687                                 0  ...                    0   \n",
       "\n",
       "      RestaurantsReservations_(Missing)  RestaurantsReservations_FALSE  \\\n",
       "0                                     0                              1   \n",
       "1                                     0                              1   \n",
       "2                                     1                              0   \n",
       "3                                     0                              1   \n",
       "4                                     0                              1   \n",
       "...                                 ...                            ...   \n",
       "2683                                  0                              1   \n",
       "2684                                  0                              1   \n",
       "2685                                  0                              1   \n",
       "2686                                  1                              0   \n",
       "2687                                  0                              1   \n",
       "\n",
       "      RestaurantsReservations_TRUE  DogsAllowed_(Missing)  DogsAllowed_FALSE  \\\n",
       "0                                0                      1                  0   \n",
       "1                                0                      1                  0   \n",
       "2                                0                      0                  1   \n",
       "3                                0                      1                  0   \n",
       "4                                0                      0                  1   \n",
       "...                            ...                    ...                ...   \n",
       "2683                             0                      1                  0   \n",
       "2684                             0                      1                  0   \n",
       "2685                             0                      0                  1   \n",
       "2686                             0                      1                  0   \n",
       "2687                             0                      1                  0   \n",
       "\n",
       "      DogsAllowed_TRUE  Caters_(Missing)  Caters_FALSE  Caters_TRUE  \n",
       "0                    0                 1             0            0  \n",
       "1                    0                 0             0            1  \n",
       "2                    0                 1             0            0  \n",
       "3                    0                 0             0            1  \n",
       "4                    0                 0             0            1  \n",
       "...                ...               ...           ...          ...  \n",
       "2683                 0                 0             0            1  \n",
       "2684                 0                 0             1            0  \n",
       "2685                 0                 0             1            0  \n",
       "2686                 0                 1             0            0  \n",
       "2687                 0                 0             0            1  \n",
       "\n",
       "[2688 rows x 36 columns]"
      ]
     },
     "execution_count": 53,
     "metadata": {},
     "output_type": "execute_result"
    }
   ],
   "source": [
    "pd.get_dummies(yelp_train.drop(['review_count','fourOrabove'], axis=1))"
   ]
  },
  {
   "cell_type": "code",
   "execution_count": 54,
   "metadata": {},
   "outputs": [],
   "source": [
    "x_train = pd.get_dummies(yelp_train.drop(['fourOrabove','stars'],axis=1))\n",
    "y_train = yelp_train['fourOrabove']"
   ]
  },
  {
   "cell_type": "code",
   "execution_count": 55,
   "metadata": {},
   "outputs": [],
   "source": [
    "x_test = pd.get_dummies(yelp_test.drop(['fourOrabove','stars'], axis=1))\n",
    "y_test= yelp_test['fourOrabove']"
   ]
  },
  {
   "cell_type": "code",
   "execution_count": 56,
   "metadata": {
    "scrolled": false
   },
   "outputs": [
    {
     "data": {
      "text/plain": [
       "RandomForestClassifier(max_features=36, min_samples_leaf=5, n_estimators=500,\n",
       "                       random_state=88)"
      ]
     },
     "execution_count": 56,
     "metadata": {},
     "output_type": "execute_result"
    }
   ],
   "source": [
    "from sklearn.ensemble import RandomForestClassifier\n",
    "\n",
    "rf = RandomForestClassifier(max_features=36, min_samples_leaf=5, \n",
    "                           n_estimators = 500, random_state=88, verbose=0);\n",
    "rf.fit(x_train, y_train)"
   ]
  },
  {
   "cell_type": "code",
   "execution_count": 57,
   "metadata": {},
   "outputs": [
    {
     "name": "stdout",
     "output_type": "stream",
     "text": [
      "OSR2: -0.33774\n"
     ]
    }
   ],
   "source": [
    "rf.verbose = False\n",
    "\n",
    "print('OSR2:', round(OSR2(rf, x_test, y_test, y_train), 5))"
   ]
  },
  {
   "cell_type": "markdown",
   "metadata": {},
   "source": [
    "Now, find the TPR and FPR using a confusion matrix"
   ]
  },
  {
   "cell_type": "code",
   "execution_count": 58,
   "metadata": {},
   "outputs": [
    {
     "name": "stdout",
     "output_type": "stream",
     "text": [
      "Confusion Matrix : \n",
      " [[2679  852]\n",
      " [1214 1527]]\n"
     ]
    }
   ],
   "source": [
    "cm = confusion_matrix(y_test, rf.predict(x_test))\n",
    "print (\"Confusion Matrix : \\n\", cm) "
   ]
  },
  {
   "cell_type": "code",
   "execution_count": 59,
   "metadata": {},
   "outputs": [
    {
     "data": {
      "text/plain": [
       "0.6705994897959183"
      ]
     },
     "execution_count": 59,
     "metadata": {},
     "output_type": "execute_result"
    }
   ],
   "source": [
    "Vanilla_Accuracy=(2679+1527)/(2679+852+1214+1527)\n",
    "Vanilla_Accuracy"
   ]
  },
  {
   "cell_type": "code",
   "execution_count": 60,
   "metadata": {},
   "outputs": [
    {
     "data": {
      "text/plain": [
       "0.5570959503830719"
      ]
     },
     "execution_count": 60,
     "metadata": {},
     "output_type": "execute_result"
    }
   ],
   "source": [
    "Vanilla_TPR=1527/(1527+1214)\n",
    "Vanilla_TPR"
   ]
  },
  {
   "cell_type": "code",
   "execution_count": 61,
   "metadata": {},
   "outputs": [
    {
     "data": {
      "text/plain": [
       "0.2412914188615123"
      ]
     },
     "execution_count": 61,
     "metadata": {},
     "output_type": "execute_result"
    }
   ],
   "source": [
    "Vanilla_FPR=852/(852+2679)\n",
    "Vanilla_FPR"
   ]
  },
  {
   "cell_type": "markdown",
   "metadata": {},
   "source": [
    "## Now, I'll use a random forest to see if I can do better than my tree..."
   ]
  },
  {
   "cell_type": "markdown",
   "metadata": {},
   "source": [
    "Here, we will use a random forest model classifier and use cross validation to find the ideal number of features. "
   ]
  },
  {
   "cell_type": "markdown",
   "metadata": {},
   "source": [
    "The following code takes a long time to compute "
   ]
  },
  {
   "cell_type": "code",
   "execution_count": 62,
   "metadata": {},
   "outputs": [
    {
     "name": "stdout",
     "output_type": "stream",
     "text": [
      "Fitting 5 folds for each of 36 candidates, totalling 180 fits\n",
      "[CV] max_features=1, min_samples_leaf=5, n_estimators=500, random_state=88 \n"
     ]
    },
    {
     "name": "stderr",
     "output_type": "stream",
     "text": [
      "[Parallel(n_jobs=1)]: Using backend SequentialBackend with 1 concurrent workers.\n"
     ]
    },
    {
     "name": "stdout",
     "output_type": "stream",
     "text": [
      "[CV]  max_features=1, min_samples_leaf=5, n_estimators=500, random_state=88, total=   0.7s\n",
      "[CV] max_features=1, min_samples_leaf=5, n_estimators=500, random_state=88 \n"
     ]
    },
    {
     "name": "stderr",
     "output_type": "stream",
     "text": [
      "[Parallel(n_jobs=1)]: Done   1 out of   1 | elapsed:    0.7s remaining:    0.0s\n"
     ]
    },
    {
     "name": "stdout",
     "output_type": "stream",
     "text": [
      "[CV]  max_features=1, min_samples_leaf=5, n_estimators=500, random_state=88, total=   0.7s\n",
      "[CV] max_features=1, min_samples_leaf=5, n_estimators=500, random_state=88 \n",
      "[CV]  max_features=1, min_samples_leaf=5, n_estimators=500, random_state=88, total=   0.7s\n",
      "[CV] max_features=1, min_samples_leaf=5, n_estimators=500, random_state=88 \n",
      "[CV]  max_features=1, min_samples_leaf=5, n_estimators=500, random_state=88, total=   0.7s\n",
      "[CV] max_features=1, min_samples_leaf=5, n_estimators=500, random_state=88 \n",
      "[CV]  max_features=1, min_samples_leaf=5, n_estimators=500, random_state=88, total=   0.7s\n",
      "[CV] max_features=2, min_samples_leaf=5, n_estimators=500, random_state=88 \n",
      "[CV]  max_features=2, min_samples_leaf=5, n_estimators=500, random_state=88, total=   0.7s\n",
      "[CV] max_features=2, min_samples_leaf=5, n_estimators=500, random_state=88 \n",
      "[CV]  max_features=2, min_samples_leaf=5, n_estimators=500, random_state=88, total=   0.8s\n",
      "[CV] max_features=2, min_samples_leaf=5, n_estimators=500, random_state=88 \n",
      "[CV]  max_features=2, min_samples_leaf=5, n_estimators=500, random_state=88, total=   0.7s\n",
      "[CV] max_features=2, min_samples_leaf=5, n_estimators=500, random_state=88 \n",
      "[CV]  max_features=2, min_samples_leaf=5, n_estimators=500, random_state=88, total=   0.7s\n",
      "[CV] max_features=2, min_samples_leaf=5, n_estimators=500, random_state=88 \n",
      "[CV]  max_features=2, min_samples_leaf=5, n_estimators=500, random_state=88, total=   0.8s\n",
      "[CV] max_features=3, min_samples_leaf=5, n_estimators=500, random_state=88 \n",
      "[CV]  max_features=3, min_samples_leaf=5, n_estimators=500, random_state=88, total=   0.8s\n",
      "[CV] max_features=3, min_samples_leaf=5, n_estimators=500, random_state=88 \n",
      "[CV]  max_features=3, min_samples_leaf=5, n_estimators=500, random_state=88, total=   0.8s\n",
      "[CV] max_features=3, min_samples_leaf=5, n_estimators=500, random_state=88 \n",
      "[CV]  max_features=3, min_samples_leaf=5, n_estimators=500, random_state=88, total=   0.8s\n",
      "[CV] max_features=3, min_samples_leaf=5, n_estimators=500, random_state=88 \n",
      "[CV]  max_features=3, min_samples_leaf=5, n_estimators=500, random_state=88, total=   0.8s\n",
      "[CV] max_features=3, min_samples_leaf=5, n_estimators=500, random_state=88 \n",
      "[CV]  max_features=3, min_samples_leaf=5, n_estimators=500, random_state=88, total=   0.8s\n",
      "[CV] max_features=4, min_samples_leaf=5, n_estimators=500, random_state=88 \n",
      "[CV]  max_features=4, min_samples_leaf=5, n_estimators=500, random_state=88, total=   0.9s\n",
      "[CV] max_features=4, min_samples_leaf=5, n_estimators=500, random_state=88 \n",
      "[CV]  max_features=4, min_samples_leaf=5, n_estimators=500, random_state=88, total=   0.8s\n",
      "[CV] max_features=4, min_samples_leaf=5, n_estimators=500, random_state=88 \n",
      "[CV]  max_features=4, min_samples_leaf=5, n_estimators=500, random_state=88, total=   0.8s\n",
      "[CV] max_features=4, min_samples_leaf=5, n_estimators=500, random_state=88 \n",
      "[CV]  max_features=4, min_samples_leaf=5, n_estimators=500, random_state=88, total=   0.8s\n",
      "[CV] max_features=4, min_samples_leaf=5, n_estimators=500, random_state=88 \n",
      "[CV]  max_features=4, min_samples_leaf=5, n_estimators=500, random_state=88, total=   0.8s\n",
      "[CV] max_features=5, min_samples_leaf=5, n_estimators=500, random_state=88 \n",
      "[CV]  max_features=5, min_samples_leaf=5, n_estimators=500, random_state=88, total=   0.9s\n",
      "[CV] max_features=5, min_samples_leaf=5, n_estimators=500, random_state=88 \n",
      "[CV]  max_features=5, min_samples_leaf=5, n_estimators=500, random_state=88, total=   0.9s\n",
      "[CV] max_features=5, min_samples_leaf=5, n_estimators=500, random_state=88 \n",
      "[CV]  max_features=5, min_samples_leaf=5, n_estimators=500, random_state=88, total=   0.9s\n",
      "[CV] max_features=5, min_samples_leaf=5, n_estimators=500, random_state=88 \n",
      "[CV]  max_features=5, min_samples_leaf=5, n_estimators=500, random_state=88, total=   0.9s\n",
      "[CV] max_features=5, min_samples_leaf=5, n_estimators=500, random_state=88 \n",
      "[CV]  max_features=5, min_samples_leaf=5, n_estimators=500, random_state=88, total=   0.9s\n",
      "[CV] max_features=6, min_samples_leaf=5, n_estimators=500, random_state=88 \n",
      "[CV]  max_features=6, min_samples_leaf=5, n_estimators=500, random_state=88, total=   0.9s\n",
      "[CV] max_features=6, min_samples_leaf=5, n_estimators=500, random_state=88 \n",
      "[CV]  max_features=6, min_samples_leaf=5, n_estimators=500, random_state=88, total=   0.9s\n",
      "[CV] max_features=6, min_samples_leaf=5, n_estimators=500, random_state=88 \n",
      "[CV]  max_features=6, min_samples_leaf=5, n_estimators=500, random_state=88, total=   0.9s\n",
      "[CV] max_features=6, min_samples_leaf=5, n_estimators=500, random_state=88 \n",
      "[CV]  max_features=6, min_samples_leaf=5, n_estimators=500, random_state=88, total=   0.9s\n",
      "[CV] max_features=6, min_samples_leaf=5, n_estimators=500, random_state=88 \n",
      "[CV]  max_features=6, min_samples_leaf=5, n_estimators=500, random_state=88, total=   0.9s\n",
      "[CV] max_features=7, min_samples_leaf=5, n_estimators=500, random_state=88 \n",
      "[CV]  max_features=7, min_samples_leaf=5, n_estimators=500, random_state=88, total=   1.0s\n",
      "[CV] max_features=7, min_samples_leaf=5, n_estimators=500, random_state=88 \n",
      "[CV]  max_features=7, min_samples_leaf=5, n_estimators=500, random_state=88, total=   1.0s\n",
      "[CV] max_features=7, min_samples_leaf=5, n_estimators=500, random_state=88 \n",
      "[CV]  max_features=7, min_samples_leaf=5, n_estimators=500, random_state=88, total=   1.0s\n",
      "[CV] max_features=7, min_samples_leaf=5, n_estimators=500, random_state=88 \n",
      "[CV]  max_features=7, min_samples_leaf=5, n_estimators=500, random_state=88, total=   1.0s\n",
      "[CV] max_features=7, min_samples_leaf=5, n_estimators=500, random_state=88 \n",
      "[CV]  max_features=7, min_samples_leaf=5, n_estimators=500, random_state=88, total=   1.0s\n",
      "[CV] max_features=8, min_samples_leaf=5, n_estimators=500, random_state=88 \n",
      "[CV]  max_features=8, min_samples_leaf=5, n_estimators=500, random_state=88, total=   1.0s\n",
      "[CV] max_features=8, min_samples_leaf=5, n_estimators=500, random_state=88 \n",
      "[CV]  max_features=8, min_samples_leaf=5, n_estimators=500, random_state=88, total=   1.0s\n",
      "[CV] max_features=8, min_samples_leaf=5, n_estimators=500, random_state=88 \n",
      "[CV]  max_features=8, min_samples_leaf=5, n_estimators=500, random_state=88, total=   1.0s\n",
      "[CV] max_features=8, min_samples_leaf=5, n_estimators=500, random_state=88 \n",
      "[CV]  max_features=8, min_samples_leaf=5, n_estimators=500, random_state=88, total=   1.0s\n",
      "[CV] max_features=8, min_samples_leaf=5, n_estimators=500, random_state=88 \n",
      "[CV]  max_features=8, min_samples_leaf=5, n_estimators=500, random_state=88, total=   1.0s\n",
      "[CV] max_features=9, min_samples_leaf=5, n_estimators=500, random_state=88 \n",
      "[CV]  max_features=9, min_samples_leaf=5, n_estimators=500, random_state=88, total=   1.1s\n",
      "[CV] max_features=9, min_samples_leaf=5, n_estimators=500, random_state=88 \n",
      "[CV]  max_features=9, min_samples_leaf=5, n_estimators=500, random_state=88, total=   1.0s\n",
      "[CV] max_features=9, min_samples_leaf=5, n_estimators=500, random_state=88 \n",
      "[CV]  max_features=9, min_samples_leaf=5, n_estimators=500, random_state=88, total=   1.0s\n",
      "[CV] max_features=9, min_samples_leaf=5, n_estimators=500, random_state=88 \n",
      "[CV]  max_features=9, min_samples_leaf=5, n_estimators=500, random_state=88, total=   1.1s\n",
      "[CV] max_features=9, min_samples_leaf=5, n_estimators=500, random_state=88 \n",
      "[CV]  max_features=9, min_samples_leaf=5, n_estimators=500, random_state=88, total=   1.0s\n",
      "[CV] max_features=10, min_samples_leaf=5, n_estimators=500, random_state=88 \n",
      "[CV]  max_features=10, min_samples_leaf=5, n_estimators=500, random_state=88, total=   1.1s\n",
      "[CV] max_features=10, min_samples_leaf=5, n_estimators=500, random_state=88 \n",
      "[CV]  max_features=10, min_samples_leaf=5, n_estimators=500, random_state=88, total=   1.1s\n",
      "[CV] max_features=10, min_samples_leaf=5, n_estimators=500, random_state=88 \n",
      "[CV]  max_features=10, min_samples_leaf=5, n_estimators=500, random_state=88, total=   1.1s\n",
      "[CV] max_features=10, min_samples_leaf=5, n_estimators=500, random_state=88 \n",
      "[CV]  max_features=10, min_samples_leaf=5, n_estimators=500, random_state=88, total=   1.1s\n",
      "[CV] max_features=10, min_samples_leaf=5, n_estimators=500, random_state=88 \n",
      "[CV]  max_features=10, min_samples_leaf=5, n_estimators=500, random_state=88, total=   1.1s\n",
      "[CV] max_features=11, min_samples_leaf=5, n_estimators=500, random_state=88 \n",
      "[CV]  max_features=11, min_samples_leaf=5, n_estimators=500, random_state=88, total=   1.2s\n",
      "[CV] max_features=11, min_samples_leaf=5, n_estimators=500, random_state=88 \n",
      "[CV]  max_features=11, min_samples_leaf=5, n_estimators=500, random_state=88, total=   1.2s\n",
      "[CV] max_features=11, min_samples_leaf=5, n_estimators=500, random_state=88 \n",
      "[CV]  max_features=11, min_samples_leaf=5, n_estimators=500, random_state=88, total=   1.2s\n",
      "[CV] max_features=11, min_samples_leaf=5, n_estimators=500, random_state=88 \n",
      "[CV]  max_features=11, min_samples_leaf=5, n_estimators=500, random_state=88, total=   1.1s\n",
      "[CV] max_features=11, min_samples_leaf=5, n_estimators=500, random_state=88 \n",
      "[CV]  max_features=11, min_samples_leaf=5, n_estimators=500, random_state=88, total=   1.1s\n",
      "[CV] max_features=12, min_samples_leaf=5, n_estimators=500, random_state=88 \n",
      "[CV]  max_features=12, min_samples_leaf=5, n_estimators=500, random_state=88, total=   1.2s\n",
      "[CV] max_features=12, min_samples_leaf=5, n_estimators=500, random_state=88 \n",
      "[CV]  max_features=12, min_samples_leaf=5, n_estimators=500, random_state=88, total=   1.2s\n",
      "[CV] max_features=12, min_samples_leaf=5, n_estimators=500, random_state=88 \n",
      "[CV]  max_features=12, min_samples_leaf=5, n_estimators=500, random_state=88, total=   1.2s\n",
      "[CV] max_features=12, min_samples_leaf=5, n_estimators=500, random_state=88 \n",
      "[CV]  max_features=12, min_samples_leaf=5, n_estimators=500, random_state=88, total=   1.2s\n",
      "[CV] max_features=12, min_samples_leaf=5, n_estimators=500, random_state=88 \n",
      "[CV]  max_features=12, min_samples_leaf=5, n_estimators=500, random_state=88, total=   1.2s\n",
      "[CV] max_features=13, min_samples_leaf=5, n_estimators=500, random_state=88 \n",
      "[CV]  max_features=13, min_samples_leaf=5, n_estimators=500, random_state=88, total=   1.2s\n",
      "[CV] max_features=13, min_samples_leaf=5, n_estimators=500, random_state=88 \n",
      "[CV]  max_features=13, min_samples_leaf=5, n_estimators=500, random_state=88, total=   1.2s\n",
      "[CV] max_features=13, min_samples_leaf=5, n_estimators=500, random_state=88 \n",
      "[CV]  max_features=13, min_samples_leaf=5, n_estimators=500, random_state=88, total=   1.2s\n",
      "[CV] max_features=13, min_samples_leaf=5, n_estimators=500, random_state=88 \n",
      "[CV]  max_features=13, min_samples_leaf=5, n_estimators=500, random_state=88, total=   1.2s\n",
      "[CV] max_features=13, min_samples_leaf=5, n_estimators=500, random_state=88 \n",
      "[CV]  max_features=13, min_samples_leaf=5, n_estimators=500, random_state=88, total=   1.2s\n",
      "[CV] max_features=14, min_samples_leaf=5, n_estimators=500, random_state=88 \n",
      "[CV]  max_features=14, min_samples_leaf=5, n_estimators=500, random_state=88, total=   1.3s\n",
      "[CV] max_features=14, min_samples_leaf=5, n_estimators=500, random_state=88 \n",
      "[CV]  max_features=14, min_samples_leaf=5, n_estimators=500, random_state=88, total=   1.3s\n",
      "[CV] max_features=14, min_samples_leaf=5, n_estimators=500, random_state=88 \n",
      "[CV]  max_features=14, min_samples_leaf=5, n_estimators=500, random_state=88, total=   1.3s\n",
      "[CV] max_features=14, min_samples_leaf=5, n_estimators=500, random_state=88 \n",
      "[CV]  max_features=14, min_samples_leaf=5, n_estimators=500, random_state=88, total=   1.3s\n",
      "[CV] max_features=14, min_samples_leaf=5, n_estimators=500, random_state=88 \n",
      "[CV]  max_features=14, min_samples_leaf=5, n_estimators=500, random_state=88, total=   1.3s\n",
      "[CV] max_features=15, min_samples_leaf=5, n_estimators=500, random_state=88 \n",
      "[CV]  max_features=15, min_samples_leaf=5, n_estimators=500, random_state=88, total=   1.3s\n",
      "[CV] max_features=15, min_samples_leaf=5, n_estimators=500, random_state=88 \n",
      "[CV]  max_features=15, min_samples_leaf=5, n_estimators=500, random_state=88, total=   1.3s\n",
      "[CV] max_features=15, min_samples_leaf=5, n_estimators=500, random_state=88 \n",
      "[CV]  max_features=15, min_samples_leaf=5, n_estimators=500, random_state=88, total=   1.3s\n",
      "[CV] max_features=15, min_samples_leaf=5, n_estimators=500, random_state=88 \n",
      "[CV]  max_features=15, min_samples_leaf=5, n_estimators=500, random_state=88, total=   1.8s\n",
      "[CV] max_features=15, min_samples_leaf=5, n_estimators=500, random_state=88 \n",
      "[CV]  max_features=15, min_samples_leaf=5, n_estimators=500, random_state=88, total=   2.6s\n",
      "[CV] max_features=16, min_samples_leaf=5, n_estimators=500, random_state=88 \n",
      "[CV]  max_features=16, min_samples_leaf=5, n_estimators=500, random_state=88, total=   2.4s\n",
      "[CV] max_features=16, min_samples_leaf=5, n_estimators=500, random_state=88 \n",
      "[CV]  max_features=16, min_samples_leaf=5, n_estimators=500, random_state=88, total=   1.7s\n",
      "[CV] max_features=16, min_samples_leaf=5, n_estimators=500, random_state=88 \n",
      "[CV]  max_features=16, min_samples_leaf=5, n_estimators=500, random_state=88, total=   1.9s\n",
      "[CV] max_features=16, min_samples_leaf=5, n_estimators=500, random_state=88 \n",
      "[CV]  max_features=16, min_samples_leaf=5, n_estimators=500, random_state=88, total=   1.6s\n",
      "[CV] max_features=16, min_samples_leaf=5, n_estimators=500, random_state=88 \n",
      "[CV]  max_features=16, min_samples_leaf=5, n_estimators=500, random_state=88, total=   1.4s\n",
      "[CV] max_features=17, min_samples_leaf=5, n_estimators=500, random_state=88 \n",
      "[CV]  max_features=17, min_samples_leaf=5, n_estimators=500, random_state=88, total=   2.1s\n",
      "[CV] max_features=17, min_samples_leaf=5, n_estimators=500, random_state=88 \n",
      "[CV]  max_features=17, min_samples_leaf=5, n_estimators=500, random_state=88, total=   2.5s\n",
      "[CV] max_features=17, min_samples_leaf=5, n_estimators=500, random_state=88 \n",
      "[CV]  max_features=17, min_samples_leaf=5, n_estimators=500, random_state=88, total=   2.1s\n",
      "[CV] max_features=17, min_samples_leaf=5, n_estimators=500, random_state=88 \n",
      "[CV]  max_features=17, min_samples_leaf=5, n_estimators=500, random_state=88, total=   2.0s\n",
      "[CV] max_features=17, min_samples_leaf=5, n_estimators=500, random_state=88 \n",
      "[CV]  max_features=17, min_samples_leaf=5, n_estimators=500, random_state=88, total=   1.8s\n",
      "[CV] max_features=18, min_samples_leaf=5, n_estimators=500, random_state=88 \n",
      "[CV]  max_features=18, min_samples_leaf=5, n_estimators=500, random_state=88, total=   1.8s\n",
      "[CV] max_features=18, min_samples_leaf=5, n_estimators=500, random_state=88 \n",
      "[CV]  max_features=18, min_samples_leaf=5, n_estimators=500, random_state=88, total=   1.7s\n",
      "[CV] max_features=18, min_samples_leaf=5, n_estimators=500, random_state=88 \n",
      "[CV]  max_features=18, min_samples_leaf=5, n_estimators=500, random_state=88, total=   1.5s\n",
      "[CV] max_features=18, min_samples_leaf=5, n_estimators=500, random_state=88 \n",
      "[CV]  max_features=18, min_samples_leaf=5, n_estimators=500, random_state=88, total=   1.5s\n",
      "[CV] max_features=18, min_samples_leaf=5, n_estimators=500, random_state=88 \n",
      "[CV]  max_features=18, min_samples_leaf=5, n_estimators=500, random_state=88, total=   2.0s\n",
      "[CV] max_features=19, min_samples_leaf=5, n_estimators=500, random_state=88 \n",
      "[CV]  max_features=19, min_samples_leaf=5, n_estimators=500, random_state=88, total=   2.7s\n",
      "[CV] max_features=19, min_samples_leaf=5, n_estimators=500, random_state=88 \n",
      "[CV]  max_features=19, min_samples_leaf=5, n_estimators=500, random_state=88, total=   2.1s\n",
      "[CV] max_features=19, min_samples_leaf=5, n_estimators=500, random_state=88 \n",
      "[CV]  max_features=19, min_samples_leaf=5, n_estimators=500, random_state=88, total=   1.7s\n",
      "[CV] max_features=19, min_samples_leaf=5, n_estimators=500, random_state=88 \n",
      "[CV]  max_features=19, min_samples_leaf=5, n_estimators=500, random_state=88, total=   1.7s\n",
      "[CV] max_features=19, min_samples_leaf=5, n_estimators=500, random_state=88 \n",
      "[CV]  max_features=19, min_samples_leaf=5, n_estimators=500, random_state=88, total=   2.2s\n",
      "[CV] max_features=20, min_samples_leaf=5, n_estimators=500, random_state=88 \n",
      "[CV]  max_features=20, min_samples_leaf=5, n_estimators=500, random_state=88, total=   2.7s\n",
      "[CV] max_features=20, min_samples_leaf=5, n_estimators=500, random_state=88 \n",
      "[CV]  max_features=20, min_samples_leaf=5, n_estimators=500, random_state=88, total=   1.9s\n",
      "[CV] max_features=20, min_samples_leaf=5, n_estimators=500, random_state=88 \n",
      "[CV]  max_features=20, min_samples_leaf=5, n_estimators=500, random_state=88, total=   2.1s\n",
      "[CV] max_features=20, min_samples_leaf=5, n_estimators=500, random_state=88 \n",
      "[CV]  max_features=20, min_samples_leaf=5, n_estimators=500, random_state=88, total=   1.9s\n",
      "[CV] max_features=20, min_samples_leaf=5, n_estimators=500, random_state=88 \n",
      "[CV]  max_features=20, min_samples_leaf=5, n_estimators=500, random_state=88, total=   2.1s\n",
      "[CV] max_features=21, min_samples_leaf=5, n_estimators=500, random_state=88 \n",
      "[CV]  max_features=21, min_samples_leaf=5, n_estimators=500, random_state=88, total=   3.1s\n",
      "[CV] max_features=21, min_samples_leaf=5, n_estimators=500, random_state=88 \n",
      "[CV]  max_features=21, min_samples_leaf=5, n_estimators=500, random_state=88, total=   2.9s\n",
      "[CV] max_features=21, min_samples_leaf=5, n_estimators=500, random_state=88 \n",
      "[CV]  max_features=21, min_samples_leaf=5, n_estimators=500, random_state=88, total=   1.9s\n",
      "[CV] max_features=21, min_samples_leaf=5, n_estimators=500, random_state=88 \n",
      "[CV]  max_features=21, min_samples_leaf=5, n_estimators=500, random_state=88, total=   1.9s\n",
      "[CV] max_features=21, min_samples_leaf=5, n_estimators=500, random_state=88 \n",
      "[CV]  max_features=21, min_samples_leaf=5, n_estimators=500, random_state=88, total=   2.0s\n",
      "[CV] max_features=22, min_samples_leaf=5, n_estimators=500, random_state=88 \n",
      "[CV]  max_features=22, min_samples_leaf=5, n_estimators=500, random_state=88, total=   1.9s\n",
      "[CV] max_features=22, min_samples_leaf=5, n_estimators=500, random_state=88 \n",
      "[CV]  max_features=22, min_samples_leaf=5, n_estimators=500, random_state=88, total=   1.8s\n",
      "[CV] max_features=22, min_samples_leaf=5, n_estimators=500, random_state=88 \n",
      "[CV]  max_features=22, min_samples_leaf=5, n_estimators=500, random_state=88, total=   1.7s\n",
      "[CV] max_features=22, min_samples_leaf=5, n_estimators=500, random_state=88 \n",
      "[CV]  max_features=22, min_samples_leaf=5, n_estimators=500, random_state=88, total=   1.7s\n",
      "[CV] max_features=22, min_samples_leaf=5, n_estimators=500, random_state=88 \n",
      "[CV]  max_features=22, min_samples_leaf=5, n_estimators=500, random_state=88, total=   1.7s\n",
      "[CV] max_features=23, min_samples_leaf=5, n_estimators=500, random_state=88 \n",
      "[CV]  max_features=23, min_samples_leaf=5, n_estimators=500, random_state=88, total=   1.8s\n",
      "[CV] max_features=23, min_samples_leaf=5, n_estimators=500, random_state=88 \n",
      "[CV]  max_features=23, min_samples_leaf=5, n_estimators=500, random_state=88, total=   1.9s\n",
      "[CV] max_features=23, min_samples_leaf=5, n_estimators=500, random_state=88 \n",
      "[CV]  max_features=23, min_samples_leaf=5, n_estimators=500, random_state=88, total=   2.0s\n",
      "[CV] max_features=23, min_samples_leaf=5, n_estimators=500, random_state=88 \n",
      "[CV]  max_features=23, min_samples_leaf=5, n_estimators=500, random_state=88, total=   1.7s\n",
      "[CV] max_features=23, min_samples_leaf=5, n_estimators=500, random_state=88 \n",
      "[CV]  max_features=23, min_samples_leaf=5, n_estimators=500, random_state=88, total=   1.6s\n",
      "[CV] max_features=24, min_samples_leaf=5, n_estimators=500, random_state=88 \n",
      "[CV]  max_features=24, min_samples_leaf=5, n_estimators=500, random_state=88, total=   1.6s\n",
      "[CV] max_features=24, min_samples_leaf=5, n_estimators=500, random_state=88 \n",
      "[CV]  max_features=24, min_samples_leaf=5, n_estimators=500, random_state=88, total=   1.7s\n",
      "[CV] max_features=24, min_samples_leaf=5, n_estimators=500, random_state=88 \n",
      "[CV]  max_features=24, min_samples_leaf=5, n_estimators=500, random_state=88, total=   1.7s\n",
      "[CV] max_features=24, min_samples_leaf=5, n_estimators=500, random_state=88 \n",
      "[CV]  max_features=24, min_samples_leaf=5, n_estimators=500, random_state=88, total=   1.7s\n",
      "[CV] max_features=24, min_samples_leaf=5, n_estimators=500, random_state=88 \n",
      "[CV]  max_features=24, min_samples_leaf=5, n_estimators=500, random_state=88, total=   1.7s\n",
      "[CV] max_features=25, min_samples_leaf=5, n_estimators=500, random_state=88 \n",
      "[CV]  max_features=25, min_samples_leaf=5, n_estimators=500, random_state=88, total=   1.7s\n",
      "[CV] max_features=25, min_samples_leaf=5, n_estimators=500, random_state=88 \n",
      "[CV]  max_features=25, min_samples_leaf=5, n_estimators=500, random_state=88, total=   1.7s\n",
      "[CV] max_features=25, min_samples_leaf=5, n_estimators=500, random_state=88 \n",
      "[CV]  max_features=25, min_samples_leaf=5, n_estimators=500, random_state=88, total=   1.7s\n",
      "[CV] max_features=25, min_samples_leaf=5, n_estimators=500, random_state=88 \n",
      "[CV]  max_features=25, min_samples_leaf=5, n_estimators=500, random_state=88, total=   1.7s\n",
      "[CV] max_features=25, min_samples_leaf=5, n_estimators=500, random_state=88 \n",
      "[CV]  max_features=25, min_samples_leaf=5, n_estimators=500, random_state=88, total=   1.7s\n",
      "[CV] max_features=26, min_samples_leaf=5, n_estimators=500, random_state=88 \n",
      "[CV]  max_features=26, min_samples_leaf=5, n_estimators=500, random_state=88, total=   1.8s\n",
      "[CV] max_features=26, min_samples_leaf=5, n_estimators=500, random_state=88 \n",
      "[CV]  max_features=26, min_samples_leaf=5, n_estimators=500, random_state=88, total=   1.8s\n",
      "[CV] max_features=26, min_samples_leaf=5, n_estimators=500, random_state=88 \n",
      "[CV]  max_features=26, min_samples_leaf=5, n_estimators=500, random_state=88, total=   1.8s\n",
      "[CV] max_features=26, min_samples_leaf=5, n_estimators=500, random_state=88 \n",
      "[CV]  max_features=26, min_samples_leaf=5, n_estimators=500, random_state=88, total=   1.8s\n",
      "[CV] max_features=26, min_samples_leaf=5, n_estimators=500, random_state=88 \n",
      "[CV]  max_features=26, min_samples_leaf=5, n_estimators=500, random_state=88, total=   1.7s\n",
      "[CV] max_features=27, min_samples_leaf=5, n_estimators=500, random_state=88 \n",
      "[CV]  max_features=27, min_samples_leaf=5, n_estimators=500, random_state=88, total=   1.8s\n",
      "[CV] max_features=27, min_samples_leaf=5, n_estimators=500, random_state=88 \n",
      "[CV]  max_features=27, min_samples_leaf=5, n_estimators=500, random_state=88, total=   1.9s\n",
      "[CV] max_features=27, min_samples_leaf=5, n_estimators=500, random_state=88 \n",
      "[CV]  max_features=27, min_samples_leaf=5, n_estimators=500, random_state=88, total=   2.5s\n",
      "[CV] max_features=27, min_samples_leaf=5, n_estimators=500, random_state=88 \n",
      "[CV]  max_features=27, min_samples_leaf=5, n_estimators=500, random_state=88, total=   2.3s\n",
      "[CV] max_features=27, min_samples_leaf=5, n_estimators=500, random_state=88 \n",
      "[CV]  max_features=27, min_samples_leaf=5, n_estimators=500, random_state=88, total=   1.8s\n",
      "[CV] max_features=28, min_samples_leaf=5, n_estimators=500, random_state=88 \n",
      "[CV]  max_features=28, min_samples_leaf=5, n_estimators=500, random_state=88, total=   1.9s\n",
      "[CV] max_features=28, min_samples_leaf=5, n_estimators=500, random_state=88 \n",
      "[CV]  max_features=28, min_samples_leaf=5, n_estimators=500, random_state=88, total=   2.4s\n",
      "[CV] max_features=28, min_samples_leaf=5, n_estimators=500, random_state=88 \n",
      "[CV]  max_features=28, min_samples_leaf=5, n_estimators=500, random_state=88, total=   2.2s\n",
      "[CV] max_features=28, min_samples_leaf=5, n_estimators=500, random_state=88 \n",
      "[CV]  max_features=28, min_samples_leaf=5, n_estimators=500, random_state=88, total=   2.4s\n",
      "[CV] max_features=28, min_samples_leaf=5, n_estimators=500, random_state=88 \n",
      "[CV]  max_features=28, min_samples_leaf=5, n_estimators=500, random_state=88, total=   2.1s\n",
      "[CV] max_features=29, min_samples_leaf=5, n_estimators=500, random_state=88 \n",
      "[CV]  max_features=29, min_samples_leaf=5, n_estimators=500, random_state=88, total=   2.4s\n",
      "[CV] max_features=29, min_samples_leaf=5, n_estimators=500, random_state=88 \n",
      "[CV]  max_features=29, min_samples_leaf=5, n_estimators=500, random_state=88, total=   2.3s\n",
      "[CV] max_features=29, min_samples_leaf=5, n_estimators=500, random_state=88 \n",
      "[CV]  max_features=29, min_samples_leaf=5, n_estimators=500, random_state=88, total=   2.1s\n",
      "[CV] max_features=29, min_samples_leaf=5, n_estimators=500, random_state=88 \n",
      "[CV]  max_features=29, min_samples_leaf=5, n_estimators=500, random_state=88, total=   2.0s\n",
      "[CV] max_features=29, min_samples_leaf=5, n_estimators=500, random_state=88 \n",
      "[CV]  max_features=29, min_samples_leaf=5, n_estimators=500, random_state=88, total=   1.9s\n",
      "[CV] max_features=30, min_samples_leaf=5, n_estimators=500, random_state=88 \n",
      "[CV]  max_features=30, min_samples_leaf=5, n_estimators=500, random_state=88, total=   2.1s\n",
      "[CV] max_features=30, min_samples_leaf=5, n_estimators=500, random_state=88 \n",
      "[CV]  max_features=30, min_samples_leaf=5, n_estimators=500, random_state=88, total=   2.6s\n",
      "[CV] max_features=30, min_samples_leaf=5, n_estimators=500, random_state=88 \n",
      "[CV]  max_features=30, min_samples_leaf=5, n_estimators=500, random_state=88, total=   2.2s\n",
      "[CV] max_features=30, min_samples_leaf=5, n_estimators=500, random_state=88 \n",
      "[CV]  max_features=30, min_samples_leaf=5, n_estimators=500, random_state=88, total=   2.2s\n",
      "[CV] max_features=30, min_samples_leaf=5, n_estimators=500, random_state=88 \n",
      "[CV]  max_features=30, min_samples_leaf=5, n_estimators=500, random_state=88, total=   2.1s\n",
      "[CV] max_features=31, min_samples_leaf=5, n_estimators=500, random_state=88 \n",
      "[CV]  max_features=31, min_samples_leaf=5, n_estimators=500, random_state=88, total=   2.0s\n",
      "[CV] max_features=31, min_samples_leaf=5, n_estimators=500, random_state=88 \n",
      "[CV]  max_features=31, min_samples_leaf=5, n_estimators=500, random_state=88, total=   2.0s\n",
      "[CV] max_features=31, min_samples_leaf=5, n_estimators=500, random_state=88 \n",
      "[CV]  max_features=31, min_samples_leaf=5, n_estimators=500, random_state=88, total=   2.1s\n",
      "[CV] max_features=31, min_samples_leaf=5, n_estimators=500, random_state=88 \n",
      "[CV]  max_features=31, min_samples_leaf=5, n_estimators=500, random_state=88, total=   2.0s\n",
      "[CV] max_features=31, min_samples_leaf=5, n_estimators=500, random_state=88 \n",
      "[CV]  max_features=31, min_samples_leaf=5, n_estimators=500, random_state=88, total=   2.0s\n",
      "[CV] max_features=32, min_samples_leaf=5, n_estimators=500, random_state=88 \n",
      "[CV]  max_features=32, min_samples_leaf=5, n_estimators=500, random_state=88, total=   2.1s\n",
      "[CV] max_features=32, min_samples_leaf=5, n_estimators=500, random_state=88 \n",
      "[CV]  max_features=32, min_samples_leaf=5, n_estimators=500, random_state=88, total=   2.2s\n",
      "[CV] max_features=32, min_samples_leaf=5, n_estimators=500, random_state=88 \n",
      "[CV]  max_features=32, min_samples_leaf=5, n_estimators=500, random_state=88, total=   2.3s\n",
      "[CV] max_features=32, min_samples_leaf=5, n_estimators=500, random_state=88 \n",
      "[CV]  max_features=32, min_samples_leaf=5, n_estimators=500, random_state=88, total=   2.4s\n",
      "[CV] max_features=32, min_samples_leaf=5, n_estimators=500, random_state=88 \n",
      "[CV]  max_features=32, min_samples_leaf=5, n_estimators=500, random_state=88, total=   2.2s\n",
      "[CV] max_features=33, min_samples_leaf=5, n_estimators=500, random_state=88 \n",
      "[CV]  max_features=33, min_samples_leaf=5, n_estimators=500, random_state=88, total=   2.2s\n",
      "[CV] max_features=33, min_samples_leaf=5, n_estimators=500, random_state=88 \n",
      "[CV]  max_features=33, min_samples_leaf=5, n_estimators=500, random_state=88, total=   2.0s\n",
      "[CV] max_features=33, min_samples_leaf=5, n_estimators=500, random_state=88 \n",
      "[CV]  max_features=33, min_samples_leaf=5, n_estimators=500, random_state=88, total=   2.2s\n",
      "[CV] max_features=33, min_samples_leaf=5, n_estimators=500, random_state=88 \n",
      "[CV]  max_features=33, min_samples_leaf=5, n_estimators=500, random_state=88, total=   2.3s\n",
      "[CV] max_features=33, min_samples_leaf=5, n_estimators=500, random_state=88 \n",
      "[CV]  max_features=33, min_samples_leaf=5, n_estimators=500, random_state=88, total=   2.0s\n",
      "[CV] max_features=34, min_samples_leaf=5, n_estimators=500, random_state=88 \n",
      "[CV]  max_features=34, min_samples_leaf=5, n_estimators=500, random_state=88, total=   2.1s\n",
      "[CV] max_features=34, min_samples_leaf=5, n_estimators=500, random_state=88 \n",
      "[CV]  max_features=34, min_samples_leaf=5, n_estimators=500, random_state=88, total=   2.1s\n",
      "[CV] max_features=34, min_samples_leaf=5, n_estimators=500, random_state=88 \n",
      "[CV]  max_features=34, min_samples_leaf=5, n_estimators=500, random_state=88, total=   2.1s\n",
      "[CV] max_features=34, min_samples_leaf=5, n_estimators=500, random_state=88 \n",
      "[CV]  max_features=34, min_samples_leaf=5, n_estimators=500, random_state=88, total=   2.1s\n",
      "[CV] max_features=34, min_samples_leaf=5, n_estimators=500, random_state=88 \n",
      "[CV]  max_features=34, min_samples_leaf=5, n_estimators=500, random_state=88, total=   2.0s\n",
      "[CV] max_features=35, min_samples_leaf=5, n_estimators=500, random_state=88 \n",
      "[CV]  max_features=35, min_samples_leaf=5, n_estimators=500, random_state=88, total=   2.9s\n",
      "[CV] max_features=35, min_samples_leaf=5, n_estimators=500, random_state=88 \n",
      "[CV]  max_features=35, min_samples_leaf=5, n_estimators=500, random_state=88, total=   3.1s\n",
      "[CV] max_features=35, min_samples_leaf=5, n_estimators=500, random_state=88 \n",
      "[CV]  max_features=35, min_samples_leaf=5, n_estimators=500, random_state=88, total=   3.0s\n",
      "[CV] max_features=35, min_samples_leaf=5, n_estimators=500, random_state=88 \n",
      "[CV]  max_features=35, min_samples_leaf=5, n_estimators=500, random_state=88, total=   2.7s\n",
      "[CV] max_features=35, min_samples_leaf=5, n_estimators=500, random_state=88 \n",
      "[CV]  max_features=35, min_samples_leaf=5, n_estimators=500, random_state=88, total=   2.5s\n",
      "[CV] max_features=36, min_samples_leaf=5, n_estimators=500, random_state=88 \n",
      "[CV]  max_features=36, min_samples_leaf=5, n_estimators=500, random_state=88, total=   2.6s\n",
      "[CV] max_features=36, min_samples_leaf=5, n_estimators=500, random_state=88 \n",
      "[CV]  max_features=36, min_samples_leaf=5, n_estimators=500, random_state=88, total=   2.4s\n",
      "[CV] max_features=36, min_samples_leaf=5, n_estimators=500, random_state=88 \n",
      "[CV]  max_features=36, min_samples_leaf=5, n_estimators=500, random_state=88, total=   2.6s\n",
      "[CV] max_features=36, min_samples_leaf=5, n_estimators=500, random_state=88 \n",
      "[CV]  max_features=36, min_samples_leaf=5, n_estimators=500, random_state=88, total=   2.5s\n",
      "[CV] max_features=36, min_samples_leaf=5, n_estimators=500, random_state=88 \n",
      "[CV]  max_features=36, min_samples_leaf=5, n_estimators=500, random_state=88, total=   2.6s\n"
     ]
    },
    {
     "name": "stderr",
     "output_type": "stream",
     "text": [
      "[Parallel(n_jobs=1)]: Done 180 out of 180 | elapsed:  4.9min finished\n"
     ]
    },
    {
     "data": {
      "text/plain": [
       "GridSearchCV(cv=KFold(n_splits=5, random_state=333, shuffle=True),\n",
       "             estimator=RandomForestClassifier(),\n",
       "             param_grid={'max_features': array([ 1,  2,  3,  4,  5,  6,  7,  8,  9, 10, 11, 12, 13, 14, 15, 16, 17,\n",
       "       18, 19, 20, 21, 22, 23, 24, 25, 26, 27, 28, 29, 30, 31, 32, 33, 34,\n",
       "       35, 36], dtype=int32),\n",
       "                         'min_samples_leaf': [5], 'n_estimators': [500],\n",
       "                         'random_state': [88]},\n",
       "             scoring='r2', verbose=2)"
      ]
     },
     "execution_count": 62,
     "metadata": {},
     "output_type": "execute_result"
    }
   ],
   "source": [
    "import time\n",
    "\n",
    "grid_values = {'max_features': np.linspace(1,36,36, dtype='int32'),\n",
    "               'min_samples_leaf': [5],\n",
    "               'n_estimators': [500],\n",
    "               'random_state': [88]} \n",
    "\n",
    "tic = time.time()\n",
    "\n",
    "rf2 = RandomForestClassifier() \n",
    "\n",
    "cv = KFold(n_splits=5,random_state=333,shuffle=True) \n",
    "rf_cv = GridSearchCV(rf2, param_grid=grid_values, scoring='r2', cv=cv,verbose=2)\n",
    "rf_cv.fit(x_train, y_train)\n"
   ]
  },
  {
   "cell_type": "markdown",
   "metadata": {},
   "source": [
    "Interestingly, our OSR^2 value is negative. This may happen when there is no accompanying intercept (but GSI in OH confirms this is fine as long as we have high accuracy)"
   ]
  },
  {
   "cell_type": "code",
   "execution_count": 63,
   "metadata": {},
   "outputs": [
    {
     "data": {
      "text/plain": [
       "(-0.4, -0.25)"
      ]
     },
     "execution_count": 63,
     "metadata": {},
     "output_type": "execute_result"
    },
    {
     "data": {
      "image/png": "[encoded data removed]",
      "text/plain": [
       "<Figure size 576x432 with 1 Axes>"
      ]
     },
     "metadata": {
      "needs_background": "light"
     },
     "output_type": "display_data"
    }
   ],
   "source": [
    "max_features = rf_cv.cv_results_['param_max_features'].data\n",
    "R2_scores = rf_cv.cv_results_['mean_test_score']\n",
    "\n",
    "plt.figure(figsize=(8, 6))\n",
    "plt.xlabel('max features', fontsize=16)\n",
    "plt.ylabel('CV R2', fontsize=16)\n",
    "plt.scatter(max_features, R2_scores, s=30)\n",
    "plt.plot(max_features, R2_scores, linewidth=3)\n",
    "plt.grid(True, which='both')\n",
    "plt.xlim([1, 30])\n",
    "plt.ylim([-0.4, -0.25])"
   ]
  },
  {
   "cell_type": "code",
   "execution_count": 64,
   "metadata": {},
   "outputs": [
    {
     "name": "stdout",
     "output_type": "stream",
     "text": [
      "{'max_features': 8, 'min_samples_leaf': 5, 'n_estimators': 500, 'random_state': 88}\n"
     ]
    }
   ],
   "source": [
    "print(rf_cv.best_params_)"
   ]
  },
  {
   "cell_type": "markdown",
   "metadata": {},
   "source": [
    "Now we build a random forest model using the max features selected for us"
   ]
  },
  {
   "cell_type": "code",
   "execution_count": 65,
   "metadata": {},
   "outputs": [],
   "source": [
    "from sklearn.ensemble import RandomForestClassifier\n",
    "\n",
    "rf = RandomForestClassifier(max_features=8, min_samples_leaf=5, \n",
    "                           n_estimators = 500, random_state=88, verbose=0);\n",
    "rf.fit(x_train, y_train);"
   ]
  },
  {
   "cell_type": "code",
   "execution_count": 66,
   "metadata": {},
   "outputs": [
    {
     "name": "stdout",
     "output_type": "stream",
     "text": [
      "OSR2: -0.29436\n"
     ]
    }
   ],
   "source": [
    "rf.verbose = False\n",
    "\n",
    "print('OSR2:', round(OSR2(rf, x_test, y_test, y_train), 5))"
   ]
  },
  {
   "cell_type": "markdown",
   "metadata": {},
   "source": [
    "And now we will build a confusion matrix to calcualte the TPR, FPR, and other metrics"
   ]
  },
  {
   "cell_type": "code",
   "execution_count": 67,
   "metadata": {
    "scrolled": true
   },
   "outputs": [
    {
     "name": "stdout",
     "output_type": "stream",
     "text": [
      "Confusion Matrix : \n",
      " [[2771  760]\n",
      " [1239 1502]]\n"
     ]
    }
   ],
   "source": [
    "cm = confusion_matrix(y_test, rf.predict(x_test))\n",
    "print (\"Confusion Matrix : \\n\", cm) "
   ]
  },
  {
   "cell_type": "code",
   "execution_count": 68,
   "metadata": {},
   "outputs": [
    {
     "data": {
      "text/plain": [
       "0.681281887755102"
      ]
     },
     "execution_count": 68,
     "metadata": {},
     "output_type": "execute_result"
    }
   ],
   "source": [
    "Forest_Accuracy=sum(rf.predict(x_test)==y_test)/len(y_test)\n",
    "Forest_Accuracy"
   ]
  },
  {
   "cell_type": "code",
   "execution_count": 69,
   "metadata": {},
   "outputs": [
    {
     "data": {
      "text/plain": [
       "0.21523647691871992"
      ]
     },
     "execution_count": 69,
     "metadata": {},
     "output_type": "execute_result"
    }
   ],
   "source": [
    "Forest_FPR=760/(760+2771)\n",
    "Forest_FPR"
   ]
  },
  {
   "cell_type": "code",
   "execution_count": 70,
   "metadata": {},
   "outputs": [
    {
     "data": {
      "text/plain": [
       "0.5479751915359358"
      ]
     },
     "execution_count": 70,
     "metadata": {},
     "output_type": "execute_result"
    }
   ],
   "source": [
    "Forest_TPR=1502/(1239+1502)\n",
    "Forest_TPR"
   ]
  },
  {
   "cell_type": "markdown",
   "metadata": {},
   "source": [
    "## Now, I'll build a comparison table"
   ]
  },
  {
   "cell_type": "markdown",
   "metadata": {},
   "source": [
    "## Step 1: The baseline"
   ]
  },
  {
   "cell_type": "markdown",
   "metadata": {},
   "source": [
    "First we will build the baseline model where we assume every restaurant shares the most common rating (four star/above or not). The below code indicates only 45% of restaurants have ratings that are four stars or above. Therefore, we predict every restaurant is not fourorabove."
   ]
  },
  {
   "cell_type": "code",
   "execution_count": 71,
   "metadata": {},
   "outputs": [
    {
     "data": {
      "text/plain": [
       "0.45126488095238093"
      ]
     },
     "execution_count": 71,
     "metadata": {},
     "output_type": "execute_result"
    }
   ],
   "source": [
    "sum(yelp_train['fourOrabove'])/len(yelp_train['fourOrabove'])"
   ]
  },
  {
   "cell_type": "code",
   "execution_count": 72,
   "metadata": {},
   "outputs": [
    {
     "data": {
      "text/plain": [
       "array([0., 0., 0., ..., 0., 0., 0.])"
      ]
     },
     "execution_count": 72,
     "metadata": {},
     "output_type": "execute_result"
    }
   ],
   "source": [
    "baseline=np.zeros(len(yelp_test))\n",
    "baseline"
   ]
  },
  {
   "cell_type": "code",
   "execution_count": 73,
   "metadata": {},
   "outputs": [
    {
     "data": {
      "text/plain": [
       "array([[3531,    0],\n",
       "       [2741,    0]])"
      ]
     },
     "execution_count": 73,
     "metadata": {},
     "output_type": "execute_result"
    }
   ],
   "source": [
    "cm = confusion_matrix(y_test, baseline)\n",
    "cm"
   ]
  },
  {
   "cell_type": "code",
   "execution_count": 74,
   "metadata": {},
   "outputs": [
    {
     "data": {
      "text/plain": [
       "0.5629783163265306"
      ]
     },
     "execution_count": 74,
     "metadata": {},
     "output_type": "execute_result"
    }
   ],
   "source": [
    "Baseline_Accuracy=3531/(2741+3531)\n",
    "Baseline_Accuracy"
   ]
  },
  {
   "cell_type": "code",
   "execution_count": 75,
   "metadata": {},
   "outputs": [],
   "source": [
    "B_TPR=0\n",
    "B_FPR=0"
   ]
  },
  {
   "cell_type": "markdown",
   "metadata": {},
   "source": [
    "## Recall the decision tree and statsmodel predictions"
   ]
  },
  {
   "cell_type": "code",
   "execution_count": 76,
   "metadata": {},
   "outputs": [
    {
     "data": {
      "text/plain": [
       "array([[3339,  192],\n",
       "       [2152,  589]])"
      ]
     },
     "execution_count": 76,
     "metadata": {},
     "output_type": "execute_result"
    }
   ],
   "source": [
    "## Regression Statsmodels\n",
    "reg_pred\n",
    "confusion_matrix(y_test,reg_pred)"
   ]
  },
  {
   "cell_type": "code",
   "execution_count": 77,
   "metadata": {},
   "outputs": [
    {
     "data": {
      "text/plain": [
       "0.6262755102040817"
      ]
     },
     "execution_count": 77,
     "metadata": {},
     "output_type": "execute_result"
    }
   ],
   "source": [
    "stats_acc=(3339+589)/(3339+589+192+2152)\n",
    "stats_acc"
   ]
  },
  {
   "cell_type": "code",
   "execution_count": 78,
   "metadata": {},
   "outputs": [],
   "source": [
    "stats_TPR=589/(589+2152)\n",
    "stats_FPR=(192)/(3339+192)"
   ]
  },
  {
   "cell_type": "code",
   "execution_count": 79,
   "metadata": {},
   "outputs": [
    {
     "name": "stdout",
     "output_type": "stream",
     "text": [
      "0.21488507843852608\n",
      "0.05437553101104503\n"
     ]
    }
   ],
   "source": [
    "print(stats_TPR)\n",
    "print(stats_FPR)"
   ]
  },
  {
   "cell_type": "code",
   "execution_count": 80,
   "metadata": {},
   "outputs": [
    {
     "data": {
      "text/plain": [
       "array([[3531,    0],\n",
       "       [2741,    0]])"
      ]
     },
     "execution_count": 80,
     "metadata": {},
     "output_type": "execute_result"
    }
   ],
   "source": [
    "## Regression Tree\n",
    "tree_pred\n",
    "confusion_matrix(y_test, tree_pred)"
   ]
  },
  {
   "cell_type": "code",
   "execution_count": 81,
   "metadata": {},
   "outputs": [],
   "source": [
    "Tree_Acc=3531/(3531+2741)"
   ]
  },
  {
   "cell_type": "code",
   "execution_count": 82,
   "metadata": {},
   "outputs": [],
   "source": [
    "Tree_TPR=0"
   ]
  },
  {
   "cell_type": "code",
   "execution_count": 83,
   "metadata": {},
   "outputs": [],
   "source": [
    "Tree_FPR=0"
   ]
  },
  {
   "cell_type": "markdown",
   "metadata": {},
   "source": [
    "## And now, we collate our findings"
   ]
  },
  {
   "cell_type": "code",
   "execution_count": 200,
   "metadata": {},
   "outputs": [],
   "source": [
    "findings= pd.DataFrame({'Accuracy': [Baseline_Accuracy, stats_acc, Tree_Acc, logit_Acc , class_tree_acc,Vanilla_Accuracy, Forest_Accuracy],\n",
    "                   'TPR': [B_TPR, stats_TPR, Tree_TPR, logit_TPR, Vanilla_TPR, class_tree_TPR, Forest_TPR],\n",
    "                   'FPR': [B_FPR, stats_FPR, Tree_FPR, logit_FPR, Vanilla_FPR, class_tree_FPR, Forest_FPR]},\n",
    "                  index=['Baseline', 'Statsmodel Regression', 'Regression Tree','Logistic Regression for Classification','Classification Tree','Vanilla Bagging Tree','Random Forest Classifier'])"
   ]
  },
  {
   "cell_type": "code",
   "execution_count": 201,
   "metadata": {},
   "outputs": [
    {
     "data": {
      "text/html": [
       "<div>\n",
       "<style scoped>\n",
       "    .dataframe tbody tr th:only-of-type {\n",
       "        vertical-align: middle;\n",
       "    }\n",
       "\n",
       "    .dataframe tbody tr th {\n",
       "        vertical-align: top;\n",
       "    }\n",
       "\n",
       "    .dataframe thead th {\n",
       "        text-align: right;\n",
       "    }\n",
       "</style>\n",
       "<table border=\"1\" class=\"dataframe\">\n",
       "  <thead>\n",
       "    <tr style=\"text-align: right;\">\n",
       "      <th></th>\n",
       "      <th>Accuracy</th>\n",
       "      <th>TPR</th>\n",
       "      <th>FPR</th>\n",
       "    </tr>\n",
       "  </thead>\n",
       "  <tbody>\n",
       "    <tr>\n",
       "      <th>Baseline</th>\n",
       "      <td>0.562978</td>\n",
       "      <td>0.000000</td>\n",
       "      <td>0.000000</td>\n",
       "    </tr>\n",
       "    <tr>\n",
       "      <th>Statsmodel Regression</th>\n",
       "      <td>0.626276</td>\n",
       "      <td>0.214885</td>\n",
       "      <td>0.054376</td>\n",
       "    </tr>\n",
       "    <tr>\n",
       "      <th>Regression Tree</th>\n",
       "      <td>0.562978</td>\n",
       "      <td>0.000000</td>\n",
       "      <td>0.000000</td>\n",
       "    </tr>\n",
       "    <tr>\n",
       "      <th>Logistic Regression for Classification</th>\n",
       "      <td>0.668527</td>\n",
       "      <td>0.512951</td>\n",
       "      <td>0.210705</td>\n",
       "    </tr>\n",
       "    <tr>\n",
       "      <th>Classification Tree</th>\n",
       "      <td>0.631856</td>\n",
       "      <td>0.557096</td>\n",
       "      <td>0.241291</td>\n",
       "    </tr>\n",
       "    <tr>\n",
       "      <th>Vanilla Bagging Tree</th>\n",
       "      <td>0.670599</td>\n",
       "      <td>0.523532</td>\n",
       "      <td>0.284056</td>\n",
       "    </tr>\n",
       "    <tr>\n",
       "      <th>Random Forest Classifier</th>\n",
       "      <td>0.681282</td>\n",
       "      <td>0.547975</td>\n",
       "      <td>0.215236</td>\n",
       "    </tr>\n",
       "  </tbody>\n",
       "</table>\n",
       "</div>"
      ],
      "text/plain": [
       "                                        Accuracy       TPR       FPR\n",
       "Baseline                                0.562978  0.000000  0.000000\n",
       "Statsmodel Regression                   0.626276  0.214885  0.054376\n",
       "Regression Tree                         0.562978  0.000000  0.000000\n",
       "Logistic Regression for Classification  0.668527  0.512951  0.210705\n",
       "Classification Tree                     0.631856  0.557096  0.241291\n",
       "Vanilla Bagging Tree                    0.670599  0.523532  0.284056\n",
       "Random Forest Classifier                0.681282  0.547975  0.215236"
      ]
     },
     "execution_count": 201,
     "metadata": {},
     "output_type": "execute_result"
    }
   ],
   "source": [
    "findings"
   ]
  },
  {
   "cell_type": "markdown",
   "metadata": {},
   "source": [
    "## Part E"
   ]
  },
  {
   "cell_type": "markdown",
   "metadata": {},
   "source": [
    "### My three tips\n",
    "1) Ensure your restaurant does not permit dogs. It is reasonable to anticipate patrons do not want to dine in a messy or loud environment. The importance score ascribed to this is a 4.4%, which is quite high compared to the other features we've listed. The p-value of this variable when we run a logistic regression is virtually 0, meaning this plays a significant role in improving your stars for many restaurants in Las Vegas.\n",
    "\n",
    "2) Make sure your restaurant is wheelchair accessible so you may appeal to a wider customer base. This feature has a 6.7% importance score. The p-value here is also near 0, so this plays a significant role in obtaining higher ratings for other restaurants in the Las Vegas area.\n",
    "\n",
    "3) Be available for catering. This has a 2.8% importance score, and the associated p-value is also quite low (0.006). This may be a great way to expand your brand name and reach by providing for socials/other events. "
   ]
  },
  {
   "cell_type": "markdown",
   "metadata": {},
   "source": [
    "### The Data and Analysis"
   ]
  },
  {
   "cell_type": "markdown",
   "metadata": {},
   "source": [
    "###  Simplest method: show a list of feature importance"
   ]
  },
  {
   "cell_type": "code",
   "execution_count": 210,
   "metadata": {},
   "outputs": [
    {
     "data": {
      "text/html": [
       "<div>\n",
       "<style scoped>\n",
       "    .dataframe tbody tr th:only-of-type {\n",
       "        vertical-align: middle;\n",
       "    }\n",
       "\n",
       "    .dataframe tbody tr th {\n",
       "        vertical-align: top;\n",
       "    }\n",
       "\n",
       "    .dataframe thead th {\n",
       "        text-align: right;\n",
       "    }\n",
       "</style>\n",
       "<table border=\"1\" class=\"dataframe\">\n",
       "  <thead>\n",
       "    <tr style=\"text-align: right;\">\n",
       "      <th></th>\n",
       "      <th>Feature</th>\n",
       "      <th>Importance score</th>\n",
       "    </tr>\n",
       "  </thead>\n",
       "  <tbody>\n",
       "    <tr>\n",
       "      <th>0</th>\n",
       "      <td>review_count</td>\n",
       "      <td>22.8</td>\n",
       "    </tr>\n",
       "    <tr>\n",
       "      <th>1</th>\n",
       "      <td>GoodForKids_(Missing)</td>\n",
       "      <td>1.2</td>\n",
       "    </tr>\n",
       "    <tr>\n",
       "      <th>2</th>\n",
       "      <td>GoodForKids_FALSE</td>\n",
       "      <td>1.1</td>\n",
       "    </tr>\n",
       "    <tr>\n",
       "      <th>3</th>\n",
       "      <td>GoodForKids_TRUE</td>\n",
       "      <td>2.1</td>\n",
       "    </tr>\n",
       "    <tr>\n",
       "      <th>4</th>\n",
       "      <td>Alcohol_'beer_and_wine'</td>\n",
       "      <td>1.1</td>\n",
       "    </tr>\n",
       "    <tr>\n",
       "      <th>5</th>\n",
       "      <td>Alcohol_'full_bar'</td>\n",
       "      <td>1.8</td>\n",
       "    </tr>\n",
       "    <tr>\n",
       "      <th>6</th>\n",
       "      <td>Alcohol_'none'</td>\n",
       "      <td>2.1</td>\n",
       "    </tr>\n",
       "    <tr>\n",
       "      <th>7</th>\n",
       "      <td>Alcohol_(Missing)</td>\n",
       "      <td>1.3</td>\n",
       "    </tr>\n",
       "    <tr>\n",
       "      <th>8</th>\n",
       "      <td>BusinessAcceptsCreditCards_(Missing)</td>\n",
       "      <td>0.3</td>\n",
       "    </tr>\n",
       "    <tr>\n",
       "      <th>9</th>\n",
       "      <td>BusinessAcceptsCreditCards_FALSE</td>\n",
       "      <td>0.3</td>\n",
       "    </tr>\n",
       "    <tr>\n",
       "      <th>10</th>\n",
       "      <td>BusinessAcceptsCreditCards_TRUE</td>\n",
       "      <td>0.4</td>\n",
       "    </tr>\n",
       "    <tr>\n",
       "      <th>11</th>\n",
       "      <td>WiFi_'free'</td>\n",
       "      <td>2.3</td>\n",
       "    </tr>\n",
       "    <tr>\n",
       "      <th>12</th>\n",
       "      <td>WiFi_'no'</td>\n",
       "      <td>2.3</td>\n",
       "    </tr>\n",
       "    <tr>\n",
       "      <th>13</th>\n",
       "      <td>WiFi_'paid'</td>\n",
       "      <td>0.1</td>\n",
       "    </tr>\n",
       "    <tr>\n",
       "      <th>14</th>\n",
       "      <td>WiFi_(Missing)</td>\n",
       "      <td>1.7</td>\n",
       "    </tr>\n",
       "    <tr>\n",
       "      <th>15</th>\n",
       "      <td>BikeParking_(Missing)</td>\n",
       "      <td>2.2</td>\n",
       "    </tr>\n",
       "    <tr>\n",
       "      <th>16</th>\n",
       "      <td>BikeParking_FALSE</td>\n",
       "      <td>2.4</td>\n",
       "    </tr>\n",
       "    <tr>\n",
       "      <th>17</th>\n",
       "      <td>BikeParking_TRUE</td>\n",
       "      <td>2.5</td>\n",
       "    </tr>\n",
       "    <tr>\n",
       "      <th>18</th>\n",
       "      <td>ByAppointmentOnly_(Missing)</td>\n",
       "      <td>2.1</td>\n",
       "    </tr>\n",
       "    <tr>\n",
       "      <th>19</th>\n",
       "      <td>ByAppointmentOnly_FALSE</td>\n",
       "      <td>1.6</td>\n",
       "    </tr>\n",
       "    <tr>\n",
       "      <th>20</th>\n",
       "      <td>ByAppointmentOnly_TRUE</td>\n",
       "      <td>0.0</td>\n",
       "    </tr>\n",
       "    <tr>\n",
       "      <th>21</th>\n",
       "      <td>WheelechairAccessible_(Missing)</td>\n",
       "      <td>9.7</td>\n",
       "    </tr>\n",
       "    <tr>\n",
       "      <th>22</th>\n",
       "      <td>WheelechairAccessible_FALSE</td>\n",
       "      <td>0.5</td>\n",
       "    </tr>\n",
       "    <tr>\n",
       "      <th>23</th>\n",
       "      <td>WheelechairAccessible_TRUE</td>\n",
       "      <td>6.7</td>\n",
       "    </tr>\n",
       "    <tr>\n",
       "      <th>24</th>\n",
       "      <td>OutdoorSeating_(Missing)</td>\n",
       "      <td>1.5</td>\n",
       "    </tr>\n",
       "    <tr>\n",
       "      <th>25</th>\n",
       "      <td>OutdoorSeating_FALSE</td>\n",
       "      <td>2.1</td>\n",
       "    </tr>\n",
       "    <tr>\n",
       "      <th>26</th>\n",
       "      <td>OutdoorSeating_TRUE</td>\n",
       "      <td>2.1</td>\n",
       "    </tr>\n",
       "    <tr>\n",
       "      <th>27</th>\n",
       "      <td>RestaurantsReservations_(Missing)</td>\n",
       "      <td>1.1</td>\n",
       "    </tr>\n",
       "    <tr>\n",
       "      <th>28</th>\n",
       "      <td>RestaurantsReservations_FALSE</td>\n",
       "      <td>3.4</td>\n",
       "    </tr>\n",
       "    <tr>\n",
       "      <th>29</th>\n",
       "      <td>RestaurantsReservations_TRUE</td>\n",
       "      <td>2.2</td>\n",
       "    </tr>\n",
       "    <tr>\n",
       "      <th>30</th>\n",
       "      <td>DogsAllowed_(Missing)</td>\n",
       "      <td>7.2</td>\n",
       "    </tr>\n",
       "    <tr>\n",
       "      <th>31</th>\n",
       "      <td>DogsAllowed_FALSE</td>\n",
       "      <td>4.4</td>\n",
       "    </tr>\n",
       "    <tr>\n",
       "      <th>32</th>\n",
       "      <td>DogsAllowed_TRUE</td>\n",
       "      <td>0.5</td>\n",
       "    </tr>\n",
       "    <tr>\n",
       "      <th>33</th>\n",
       "      <td>Caters_(Missing)</td>\n",
       "      <td>1.6</td>\n",
       "    </tr>\n",
       "    <tr>\n",
       "      <th>34</th>\n",
       "      <td>Caters_FALSE</td>\n",
       "      <td>2.4</td>\n",
       "    </tr>\n",
       "    <tr>\n",
       "      <th>35</th>\n",
       "      <td>Caters_TRUE</td>\n",
       "      <td>2.8</td>\n",
       "    </tr>\n",
       "  </tbody>\n",
       "</table>\n",
       "</div>"
      ],
      "text/plain": [
       "                                 Feature  Importance score\n",
       "0                           review_count              22.8\n",
       "1                  GoodForKids_(Missing)               1.2\n",
       "2                      GoodForKids_FALSE               1.1\n",
       "3                       GoodForKids_TRUE               2.1\n",
       "4                Alcohol_'beer_and_wine'               1.1\n",
       "5                     Alcohol_'full_bar'               1.8\n",
       "6                         Alcohol_'none'               2.1\n",
       "7                      Alcohol_(Missing)               1.3\n",
       "8   BusinessAcceptsCreditCards_(Missing)               0.3\n",
       "9       BusinessAcceptsCreditCards_FALSE               0.3\n",
       "10       BusinessAcceptsCreditCards_TRUE               0.4\n",
       "11                           WiFi_'free'               2.3\n",
       "12                             WiFi_'no'               2.3\n",
       "13                           WiFi_'paid'               0.1\n",
       "14                        WiFi_(Missing)               1.7\n",
       "15                 BikeParking_(Missing)               2.2\n",
       "16                     BikeParking_FALSE               2.4\n",
       "17                      BikeParking_TRUE               2.5\n",
       "18           ByAppointmentOnly_(Missing)               2.1\n",
       "19               ByAppointmentOnly_FALSE               1.6\n",
       "20                ByAppointmentOnly_TRUE               0.0\n",
       "21       WheelechairAccessible_(Missing)               9.7\n",
       "22           WheelechairAccessible_FALSE               0.5\n",
       "23            WheelechairAccessible_TRUE               6.7\n",
       "24              OutdoorSeating_(Missing)               1.5\n",
       "25                  OutdoorSeating_FALSE               2.1\n",
       "26                   OutdoorSeating_TRUE               2.1\n",
       "27     RestaurantsReservations_(Missing)               1.1\n",
       "28         RestaurantsReservations_FALSE               3.4\n",
       "29          RestaurantsReservations_TRUE               2.2\n",
       "30                 DogsAllowed_(Missing)               7.2\n",
       "31                     DogsAllowed_FALSE               4.4\n",
       "32                      DogsAllowed_TRUE               0.5\n",
       "33                      Caters_(Missing)               1.6\n",
       "34                          Caters_FALSE               2.4\n",
       "35                           Caters_TRUE               2.8"
      ]
     },
     "execution_count": 210,
     "metadata": {},
     "output_type": "execute_result"
    }
   ],
   "source": [
    "importance=pd.DataFrame({'Feature' : x_train.columns,  \n",
    "              'Importance score': 100*rf_cv.best_estimator_.feature_importances_}).round(1)\n",
    "importance"
   ]
  },
  {
   "cell_type": "code",
   "execution_count": 207,
   "metadata": {
    "scrolled": true
   },
   "outputs": [
    {
     "data": {
      "image/png": "[encoded data removed]",
      "text/plain": [
       "<Figure size 576x504 with 1 Axes>"
      ]
     },
     "metadata": {
      "needs_background": "light"
     },
     "output_type": "display_data"
    }
   ],
   "source": [
    "plt.figure(figsize=(8,7))\n",
    "plt.barh(x_train.columns, 100*rf_cv.best_estimator_.feature_importances_)\n",
    "plt.show()"
   ]
  }
 ],
 "metadata": {
  "kernelspec": {
   "display_name": "Python 3",
   "language": "python",
   "name": "python3"
  },
  "language_info": {
   "codemirror_mode": {
    "name": "ipython",
    "version": 3
   },
   "file_extension": ".py",
   "mimetype": "text/x-python",
   "name": "python",
   "nbconvert_exporter": "python",
   "pygments_lexer": "ipython3",
   "version": "3.8.5"
  }
 },
 "nbformat": 4,
 "nbformat_minor": 4
}
